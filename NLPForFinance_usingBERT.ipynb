{
  "nbformat": 4,
  "nbformat_minor": 0,
  "metadata": {
    "colab": {
      "provenance": []
    },
    "kernelspec": {
      "name": "python3",
      "display_name": "Python 3"
    },
    "accelerator": "GPU",
    "widgets": {
      "application/vnd.jupyter.widget-state+json": {
        "5a5768dec85f4cd5b43d221748674f12": {
          "model_module": "@jupyter-widgets/controls",
          "model_name": "HBoxModel",
          "model_module_version": "1.5.0",
          "state": {
            "_dom_classes": [],
            "_model_module": "@jupyter-widgets/controls",
            "_model_module_version": "1.5.0",
            "_model_name": "HBoxModel",
            "_view_count": null,
            "_view_module": "@jupyter-widgets/controls",
            "_view_module_version": "1.5.0",
            "_view_name": "HBoxView",
            "box_style": "",
            "children": [
              "IPY_MODEL_d8d88b1d37014b1ebc4c3b2ec20b5224",
              "IPY_MODEL_89c757fdc51747f9964bae0827df9268",
              "IPY_MODEL_2715663fdafa4923beb65bdfd2d80c01"
            ],
            "layout": "IPY_MODEL_e2c61af8325e40fa9046f535c92fe336"
          }
        },
        "d8d88b1d37014b1ebc4c3b2ec20b5224": {
          "model_module": "@jupyter-widgets/controls",
          "model_name": "HTMLModel",
          "model_module_version": "1.5.0",
          "state": {
            "_dom_classes": [],
            "_model_module": "@jupyter-widgets/controls",
            "_model_module_version": "1.5.0",
            "_model_name": "HTMLModel",
            "_view_count": null,
            "_view_module": "@jupyter-widgets/controls",
            "_view_module_version": "1.5.0",
            "_view_name": "HTMLView",
            "description": "",
            "description_tooltip": null,
            "layout": "IPY_MODEL_bc2819271c484f6e88c489f8583b6782",
            "placeholder": "​",
            "style": "IPY_MODEL_ac5c784afb7f4585a5c5f5822dfe58ba",
            "value": "tokenizer_config.json: 100%"
          }
        },
        "89c757fdc51747f9964bae0827df9268": {
          "model_module": "@jupyter-widgets/controls",
          "model_name": "FloatProgressModel",
          "model_module_version": "1.5.0",
          "state": {
            "_dom_classes": [],
            "_model_module": "@jupyter-widgets/controls",
            "_model_module_version": "1.5.0",
            "_model_name": "FloatProgressModel",
            "_view_count": null,
            "_view_module": "@jupyter-widgets/controls",
            "_view_module_version": "1.5.0",
            "_view_name": "ProgressView",
            "bar_style": "success",
            "description": "",
            "description_tooltip": null,
            "layout": "IPY_MODEL_1e4dd4ccc0db4322a1d5dc40b75ce2f6",
            "max": 48,
            "min": 0,
            "orientation": "horizontal",
            "style": "IPY_MODEL_99709d774f62432484ebeb5cce11e5a3",
            "value": 48
          }
        },
        "2715663fdafa4923beb65bdfd2d80c01": {
          "model_module": "@jupyter-widgets/controls",
          "model_name": "HTMLModel",
          "model_module_version": "1.5.0",
          "state": {
            "_dom_classes": [],
            "_model_module": "@jupyter-widgets/controls",
            "_model_module_version": "1.5.0",
            "_model_name": "HTMLModel",
            "_view_count": null,
            "_view_module": "@jupyter-widgets/controls",
            "_view_module_version": "1.5.0",
            "_view_name": "HTMLView",
            "description": "",
            "description_tooltip": null,
            "layout": "IPY_MODEL_f9d308e0c5a74b049198fe3ea0fa6b05",
            "placeholder": "​",
            "style": "IPY_MODEL_db07b430280f4788af3ace4726eba091",
            "value": " 48.0/48.0 [00:00&lt;00:00, 741B/s]"
          }
        },
        "e2c61af8325e40fa9046f535c92fe336": {
          "model_module": "@jupyter-widgets/base",
          "model_name": "LayoutModel",
          "model_module_version": "1.2.0",
          "state": {
            "_model_module": "@jupyter-widgets/base",
            "_model_module_version": "1.2.0",
            "_model_name": "LayoutModel",
            "_view_count": null,
            "_view_module": "@jupyter-widgets/base",
            "_view_module_version": "1.2.0",
            "_view_name": "LayoutView",
            "align_content": null,
            "align_items": null,
            "align_self": null,
            "border": null,
            "bottom": null,
            "display": null,
            "flex": null,
            "flex_flow": null,
            "grid_area": null,
            "grid_auto_columns": null,
            "grid_auto_flow": null,
            "grid_auto_rows": null,
            "grid_column": null,
            "grid_gap": null,
            "grid_row": null,
            "grid_template_areas": null,
            "grid_template_columns": null,
            "grid_template_rows": null,
            "height": null,
            "justify_content": null,
            "justify_items": null,
            "left": null,
            "margin": null,
            "max_height": null,
            "max_width": null,
            "min_height": null,
            "min_width": null,
            "object_fit": null,
            "object_position": null,
            "order": null,
            "overflow": null,
            "overflow_x": null,
            "overflow_y": null,
            "padding": null,
            "right": null,
            "top": null,
            "visibility": null,
            "width": null
          }
        },
        "bc2819271c484f6e88c489f8583b6782": {
          "model_module": "@jupyter-widgets/base",
          "model_name": "LayoutModel",
          "model_module_version": "1.2.0",
          "state": {
            "_model_module": "@jupyter-widgets/base",
            "_model_module_version": "1.2.0",
            "_model_name": "LayoutModel",
            "_view_count": null,
            "_view_module": "@jupyter-widgets/base",
            "_view_module_version": "1.2.0",
            "_view_name": "LayoutView",
            "align_content": null,
            "align_items": null,
            "align_self": null,
            "border": null,
            "bottom": null,
            "display": null,
            "flex": null,
            "flex_flow": null,
            "grid_area": null,
            "grid_auto_columns": null,
            "grid_auto_flow": null,
            "grid_auto_rows": null,
            "grid_column": null,
            "grid_gap": null,
            "grid_row": null,
            "grid_template_areas": null,
            "grid_template_columns": null,
            "grid_template_rows": null,
            "height": null,
            "justify_content": null,
            "justify_items": null,
            "left": null,
            "margin": null,
            "max_height": null,
            "max_width": null,
            "min_height": null,
            "min_width": null,
            "object_fit": null,
            "object_position": null,
            "order": null,
            "overflow": null,
            "overflow_x": null,
            "overflow_y": null,
            "padding": null,
            "right": null,
            "top": null,
            "visibility": null,
            "width": null
          }
        },
        "ac5c784afb7f4585a5c5f5822dfe58ba": {
          "model_module": "@jupyter-widgets/controls",
          "model_name": "DescriptionStyleModel",
          "model_module_version": "1.5.0",
          "state": {
            "_model_module": "@jupyter-widgets/controls",
            "_model_module_version": "1.5.0",
            "_model_name": "DescriptionStyleModel",
            "_view_count": null,
            "_view_module": "@jupyter-widgets/base",
            "_view_module_version": "1.2.0",
            "_view_name": "StyleView",
            "description_width": ""
          }
        },
        "1e4dd4ccc0db4322a1d5dc40b75ce2f6": {
          "model_module": "@jupyter-widgets/base",
          "model_name": "LayoutModel",
          "model_module_version": "1.2.0",
          "state": {
            "_model_module": "@jupyter-widgets/base",
            "_model_module_version": "1.2.0",
            "_model_name": "LayoutModel",
            "_view_count": null,
            "_view_module": "@jupyter-widgets/base",
            "_view_module_version": "1.2.0",
            "_view_name": "LayoutView",
            "align_content": null,
            "align_items": null,
            "align_self": null,
            "border": null,
            "bottom": null,
            "display": null,
            "flex": null,
            "flex_flow": null,
            "grid_area": null,
            "grid_auto_columns": null,
            "grid_auto_flow": null,
            "grid_auto_rows": null,
            "grid_column": null,
            "grid_gap": null,
            "grid_row": null,
            "grid_template_areas": null,
            "grid_template_columns": null,
            "grid_template_rows": null,
            "height": null,
            "justify_content": null,
            "justify_items": null,
            "left": null,
            "margin": null,
            "max_height": null,
            "max_width": null,
            "min_height": null,
            "min_width": null,
            "object_fit": null,
            "object_position": null,
            "order": null,
            "overflow": null,
            "overflow_x": null,
            "overflow_y": null,
            "padding": null,
            "right": null,
            "top": null,
            "visibility": null,
            "width": null
          }
        },
        "99709d774f62432484ebeb5cce11e5a3": {
          "model_module": "@jupyter-widgets/controls",
          "model_name": "ProgressStyleModel",
          "model_module_version": "1.5.0",
          "state": {
            "_model_module": "@jupyter-widgets/controls",
            "_model_module_version": "1.5.0",
            "_model_name": "ProgressStyleModel",
            "_view_count": null,
            "_view_module": "@jupyter-widgets/base",
            "_view_module_version": "1.2.0",
            "_view_name": "StyleView",
            "bar_color": null,
            "description_width": ""
          }
        },
        "f9d308e0c5a74b049198fe3ea0fa6b05": {
          "model_module": "@jupyter-widgets/base",
          "model_name": "LayoutModel",
          "model_module_version": "1.2.0",
          "state": {
            "_model_module": "@jupyter-widgets/base",
            "_model_module_version": "1.2.0",
            "_model_name": "LayoutModel",
            "_view_count": null,
            "_view_module": "@jupyter-widgets/base",
            "_view_module_version": "1.2.0",
            "_view_name": "LayoutView",
            "align_content": null,
            "align_items": null,
            "align_self": null,
            "border": null,
            "bottom": null,
            "display": null,
            "flex": null,
            "flex_flow": null,
            "grid_area": null,
            "grid_auto_columns": null,
            "grid_auto_flow": null,
            "grid_auto_rows": null,
            "grid_column": null,
            "grid_gap": null,
            "grid_row": null,
            "grid_template_areas": null,
            "grid_template_columns": null,
            "grid_template_rows": null,
            "height": null,
            "justify_content": null,
            "justify_items": null,
            "left": null,
            "margin": null,
            "max_height": null,
            "max_width": null,
            "min_height": null,
            "min_width": null,
            "object_fit": null,
            "object_position": null,
            "order": null,
            "overflow": null,
            "overflow_x": null,
            "overflow_y": null,
            "padding": null,
            "right": null,
            "top": null,
            "visibility": null,
            "width": null
          }
        },
        "db07b430280f4788af3ace4726eba091": {
          "model_module": "@jupyter-widgets/controls",
          "model_name": "DescriptionStyleModel",
          "model_module_version": "1.5.0",
          "state": {
            "_model_module": "@jupyter-widgets/controls",
            "_model_module_version": "1.5.0",
            "_model_name": "DescriptionStyleModel",
            "_view_count": null,
            "_view_module": "@jupyter-widgets/base",
            "_view_module_version": "1.2.0",
            "_view_name": "StyleView",
            "description_width": ""
          }
        },
        "d34148bfdc70433cb4288e48d3ce8fc5": {
          "model_module": "@jupyter-widgets/controls",
          "model_name": "HBoxModel",
          "model_module_version": "1.5.0",
          "state": {
            "_dom_classes": [],
            "_model_module": "@jupyter-widgets/controls",
            "_model_module_version": "1.5.0",
            "_model_name": "HBoxModel",
            "_view_count": null,
            "_view_module": "@jupyter-widgets/controls",
            "_view_module_version": "1.5.0",
            "_view_name": "HBoxView",
            "box_style": "",
            "children": [
              "IPY_MODEL_0017130c79ef47ff90cf76cf3a52ae5c",
              "IPY_MODEL_a30673db085647f7ba8b3b0a15923884",
              "IPY_MODEL_dedfa987804c4812a30878e7d117bbc1"
            ],
            "layout": "IPY_MODEL_b6b685104479405c83ba6d5732b46a93"
          }
        },
        "0017130c79ef47ff90cf76cf3a52ae5c": {
          "model_module": "@jupyter-widgets/controls",
          "model_name": "HTMLModel",
          "model_module_version": "1.5.0",
          "state": {
            "_dom_classes": [],
            "_model_module": "@jupyter-widgets/controls",
            "_model_module_version": "1.5.0",
            "_model_name": "HTMLModel",
            "_view_count": null,
            "_view_module": "@jupyter-widgets/controls",
            "_view_module_version": "1.5.0",
            "_view_name": "HTMLView",
            "description": "",
            "description_tooltip": null,
            "layout": "IPY_MODEL_5696e0ce3729497f833758c5ccb9f74e",
            "placeholder": "​",
            "style": "IPY_MODEL_473c8afeaceb4061a48ccf03ef0aab8d",
            "value": "vocab.txt: 100%"
          }
        },
        "a30673db085647f7ba8b3b0a15923884": {
          "model_module": "@jupyter-widgets/controls",
          "model_name": "FloatProgressModel",
          "model_module_version": "1.5.0",
          "state": {
            "_dom_classes": [],
            "_model_module": "@jupyter-widgets/controls",
            "_model_module_version": "1.5.0",
            "_model_name": "FloatProgressModel",
            "_view_count": null,
            "_view_module": "@jupyter-widgets/controls",
            "_view_module_version": "1.5.0",
            "_view_name": "ProgressView",
            "bar_style": "success",
            "description": "",
            "description_tooltip": null,
            "layout": "IPY_MODEL_59f7246889fa46fd8f6b8261a1905ccb",
            "max": 231508,
            "min": 0,
            "orientation": "horizontal",
            "style": "IPY_MODEL_9f9095390bde4edc9a435471acdfe2fe",
            "value": 231508
          }
        },
        "dedfa987804c4812a30878e7d117bbc1": {
          "model_module": "@jupyter-widgets/controls",
          "model_name": "HTMLModel",
          "model_module_version": "1.5.0",
          "state": {
            "_dom_classes": [],
            "_model_module": "@jupyter-widgets/controls",
            "_model_module_version": "1.5.0",
            "_model_name": "HTMLModel",
            "_view_count": null,
            "_view_module": "@jupyter-widgets/controls",
            "_view_module_version": "1.5.0",
            "_view_name": "HTMLView",
            "description": "",
            "description_tooltip": null,
            "layout": "IPY_MODEL_fd3f4d8757f84d61924e792c0a62dab6",
            "placeholder": "​",
            "style": "IPY_MODEL_48f9f0164bc440aa86ac27b727e94efe",
            "value": " 232k/232k [00:00&lt;00:00, 537kB/s]"
          }
        },
        "b6b685104479405c83ba6d5732b46a93": {
          "model_module": "@jupyter-widgets/base",
          "model_name": "LayoutModel",
          "model_module_version": "1.2.0",
          "state": {
            "_model_module": "@jupyter-widgets/base",
            "_model_module_version": "1.2.0",
            "_model_name": "LayoutModel",
            "_view_count": null,
            "_view_module": "@jupyter-widgets/base",
            "_view_module_version": "1.2.0",
            "_view_name": "LayoutView",
            "align_content": null,
            "align_items": null,
            "align_self": null,
            "border": null,
            "bottom": null,
            "display": null,
            "flex": null,
            "flex_flow": null,
            "grid_area": null,
            "grid_auto_columns": null,
            "grid_auto_flow": null,
            "grid_auto_rows": null,
            "grid_column": null,
            "grid_gap": null,
            "grid_row": null,
            "grid_template_areas": null,
            "grid_template_columns": null,
            "grid_template_rows": null,
            "height": null,
            "justify_content": null,
            "justify_items": null,
            "left": null,
            "margin": null,
            "max_height": null,
            "max_width": null,
            "min_height": null,
            "min_width": null,
            "object_fit": null,
            "object_position": null,
            "order": null,
            "overflow": null,
            "overflow_x": null,
            "overflow_y": null,
            "padding": null,
            "right": null,
            "top": null,
            "visibility": null,
            "width": null
          }
        },
        "5696e0ce3729497f833758c5ccb9f74e": {
          "model_module": "@jupyter-widgets/base",
          "model_name": "LayoutModel",
          "model_module_version": "1.2.0",
          "state": {
            "_model_module": "@jupyter-widgets/base",
            "_model_module_version": "1.2.0",
            "_model_name": "LayoutModel",
            "_view_count": null,
            "_view_module": "@jupyter-widgets/base",
            "_view_module_version": "1.2.0",
            "_view_name": "LayoutView",
            "align_content": null,
            "align_items": null,
            "align_self": null,
            "border": null,
            "bottom": null,
            "display": null,
            "flex": null,
            "flex_flow": null,
            "grid_area": null,
            "grid_auto_columns": null,
            "grid_auto_flow": null,
            "grid_auto_rows": null,
            "grid_column": null,
            "grid_gap": null,
            "grid_row": null,
            "grid_template_areas": null,
            "grid_template_columns": null,
            "grid_template_rows": null,
            "height": null,
            "justify_content": null,
            "justify_items": null,
            "left": null,
            "margin": null,
            "max_height": null,
            "max_width": null,
            "min_height": null,
            "min_width": null,
            "object_fit": null,
            "object_position": null,
            "order": null,
            "overflow": null,
            "overflow_x": null,
            "overflow_y": null,
            "padding": null,
            "right": null,
            "top": null,
            "visibility": null,
            "width": null
          }
        },
        "473c8afeaceb4061a48ccf03ef0aab8d": {
          "model_module": "@jupyter-widgets/controls",
          "model_name": "DescriptionStyleModel",
          "model_module_version": "1.5.0",
          "state": {
            "_model_module": "@jupyter-widgets/controls",
            "_model_module_version": "1.5.0",
            "_model_name": "DescriptionStyleModel",
            "_view_count": null,
            "_view_module": "@jupyter-widgets/base",
            "_view_module_version": "1.2.0",
            "_view_name": "StyleView",
            "description_width": ""
          }
        },
        "59f7246889fa46fd8f6b8261a1905ccb": {
          "model_module": "@jupyter-widgets/base",
          "model_name": "LayoutModel",
          "model_module_version": "1.2.0",
          "state": {
            "_model_module": "@jupyter-widgets/base",
            "_model_module_version": "1.2.0",
            "_model_name": "LayoutModel",
            "_view_count": null,
            "_view_module": "@jupyter-widgets/base",
            "_view_module_version": "1.2.0",
            "_view_name": "LayoutView",
            "align_content": null,
            "align_items": null,
            "align_self": null,
            "border": null,
            "bottom": null,
            "display": null,
            "flex": null,
            "flex_flow": null,
            "grid_area": null,
            "grid_auto_columns": null,
            "grid_auto_flow": null,
            "grid_auto_rows": null,
            "grid_column": null,
            "grid_gap": null,
            "grid_row": null,
            "grid_template_areas": null,
            "grid_template_columns": null,
            "grid_template_rows": null,
            "height": null,
            "justify_content": null,
            "justify_items": null,
            "left": null,
            "margin": null,
            "max_height": null,
            "max_width": null,
            "min_height": null,
            "min_width": null,
            "object_fit": null,
            "object_position": null,
            "order": null,
            "overflow": null,
            "overflow_x": null,
            "overflow_y": null,
            "padding": null,
            "right": null,
            "top": null,
            "visibility": null,
            "width": null
          }
        },
        "9f9095390bde4edc9a435471acdfe2fe": {
          "model_module": "@jupyter-widgets/controls",
          "model_name": "ProgressStyleModel",
          "model_module_version": "1.5.0",
          "state": {
            "_model_module": "@jupyter-widgets/controls",
            "_model_module_version": "1.5.0",
            "_model_name": "ProgressStyleModel",
            "_view_count": null,
            "_view_module": "@jupyter-widgets/base",
            "_view_module_version": "1.2.0",
            "_view_name": "StyleView",
            "bar_color": null,
            "description_width": ""
          }
        },
        "fd3f4d8757f84d61924e792c0a62dab6": {
          "model_module": "@jupyter-widgets/base",
          "model_name": "LayoutModel",
          "model_module_version": "1.2.0",
          "state": {
            "_model_module": "@jupyter-widgets/base",
            "_model_module_version": "1.2.0",
            "_model_name": "LayoutModel",
            "_view_count": null,
            "_view_module": "@jupyter-widgets/base",
            "_view_module_version": "1.2.0",
            "_view_name": "LayoutView",
            "align_content": null,
            "align_items": null,
            "align_self": null,
            "border": null,
            "bottom": null,
            "display": null,
            "flex": null,
            "flex_flow": null,
            "grid_area": null,
            "grid_auto_columns": null,
            "grid_auto_flow": null,
            "grid_auto_rows": null,
            "grid_column": null,
            "grid_gap": null,
            "grid_row": null,
            "grid_template_areas": null,
            "grid_template_columns": null,
            "grid_template_rows": null,
            "height": null,
            "justify_content": null,
            "justify_items": null,
            "left": null,
            "margin": null,
            "max_height": null,
            "max_width": null,
            "min_height": null,
            "min_width": null,
            "object_fit": null,
            "object_position": null,
            "order": null,
            "overflow": null,
            "overflow_x": null,
            "overflow_y": null,
            "padding": null,
            "right": null,
            "top": null,
            "visibility": null,
            "width": null
          }
        },
        "48f9f0164bc440aa86ac27b727e94efe": {
          "model_module": "@jupyter-widgets/controls",
          "model_name": "DescriptionStyleModel",
          "model_module_version": "1.5.0",
          "state": {
            "_model_module": "@jupyter-widgets/controls",
            "_model_module_version": "1.5.0",
            "_model_name": "DescriptionStyleModel",
            "_view_count": null,
            "_view_module": "@jupyter-widgets/base",
            "_view_module_version": "1.2.0",
            "_view_name": "StyleView",
            "description_width": ""
          }
        },
        "bcd5c406259549109858a3f013a91951": {
          "model_module": "@jupyter-widgets/controls",
          "model_name": "HBoxModel",
          "model_module_version": "1.5.0",
          "state": {
            "_dom_classes": [],
            "_model_module": "@jupyter-widgets/controls",
            "_model_module_version": "1.5.0",
            "_model_name": "HBoxModel",
            "_view_count": null,
            "_view_module": "@jupyter-widgets/controls",
            "_view_module_version": "1.5.0",
            "_view_name": "HBoxView",
            "box_style": "",
            "children": [
              "IPY_MODEL_7e3ebf9fbac441a59d3df82683025051",
              "IPY_MODEL_053a7faf2a76402d977262722047a986",
              "IPY_MODEL_98a261e853574d1db1fa935a5675e3b8"
            ],
            "layout": "IPY_MODEL_5e75be42ca374209a99a26141ce67e39"
          }
        },
        "7e3ebf9fbac441a59d3df82683025051": {
          "model_module": "@jupyter-widgets/controls",
          "model_name": "HTMLModel",
          "model_module_version": "1.5.0",
          "state": {
            "_dom_classes": [],
            "_model_module": "@jupyter-widgets/controls",
            "_model_module_version": "1.5.0",
            "_model_name": "HTMLModel",
            "_view_count": null,
            "_view_module": "@jupyter-widgets/controls",
            "_view_module_version": "1.5.0",
            "_view_name": "HTMLView",
            "description": "",
            "description_tooltip": null,
            "layout": "IPY_MODEL_65c82a2968344a21b74381a505992238",
            "placeholder": "​",
            "style": "IPY_MODEL_5bd51ee527024e91b49cf2d11f58c8e9",
            "value": "tokenizer.json: 100%"
          }
        },
        "053a7faf2a76402d977262722047a986": {
          "model_module": "@jupyter-widgets/controls",
          "model_name": "FloatProgressModel",
          "model_module_version": "1.5.0",
          "state": {
            "_dom_classes": [],
            "_model_module": "@jupyter-widgets/controls",
            "_model_module_version": "1.5.0",
            "_model_name": "FloatProgressModel",
            "_view_count": null,
            "_view_module": "@jupyter-widgets/controls",
            "_view_module_version": "1.5.0",
            "_view_name": "ProgressView",
            "bar_style": "success",
            "description": "",
            "description_tooltip": null,
            "layout": "IPY_MODEL_e8594deff71f4340849a6f7a45cf4e4d",
            "max": 466062,
            "min": 0,
            "orientation": "horizontal",
            "style": "IPY_MODEL_acfa6f762989413fbc594f64248634e7",
            "value": 466062
          }
        },
        "98a261e853574d1db1fa935a5675e3b8": {
          "model_module": "@jupyter-widgets/controls",
          "model_name": "HTMLModel",
          "model_module_version": "1.5.0",
          "state": {
            "_dom_classes": [],
            "_model_module": "@jupyter-widgets/controls",
            "_model_module_version": "1.5.0",
            "_model_name": "HTMLModel",
            "_view_count": null,
            "_view_module": "@jupyter-widgets/controls",
            "_view_module_version": "1.5.0",
            "_view_name": "HTMLView",
            "description": "",
            "description_tooltip": null,
            "layout": "IPY_MODEL_f87d913ba20b4de793b11bbb473970b9",
            "placeholder": "​",
            "style": "IPY_MODEL_2349e7054cb44d079e84420aacacd484",
            "value": " 466k/466k [00:00&lt;00:00, 6.65MB/s]"
          }
        },
        "5e75be42ca374209a99a26141ce67e39": {
          "model_module": "@jupyter-widgets/base",
          "model_name": "LayoutModel",
          "model_module_version": "1.2.0",
          "state": {
            "_model_module": "@jupyter-widgets/base",
            "_model_module_version": "1.2.0",
            "_model_name": "LayoutModel",
            "_view_count": null,
            "_view_module": "@jupyter-widgets/base",
            "_view_module_version": "1.2.0",
            "_view_name": "LayoutView",
            "align_content": null,
            "align_items": null,
            "align_self": null,
            "border": null,
            "bottom": null,
            "display": null,
            "flex": null,
            "flex_flow": null,
            "grid_area": null,
            "grid_auto_columns": null,
            "grid_auto_flow": null,
            "grid_auto_rows": null,
            "grid_column": null,
            "grid_gap": null,
            "grid_row": null,
            "grid_template_areas": null,
            "grid_template_columns": null,
            "grid_template_rows": null,
            "height": null,
            "justify_content": null,
            "justify_items": null,
            "left": null,
            "margin": null,
            "max_height": null,
            "max_width": null,
            "min_height": null,
            "min_width": null,
            "object_fit": null,
            "object_position": null,
            "order": null,
            "overflow": null,
            "overflow_x": null,
            "overflow_y": null,
            "padding": null,
            "right": null,
            "top": null,
            "visibility": null,
            "width": null
          }
        },
        "65c82a2968344a21b74381a505992238": {
          "model_module": "@jupyter-widgets/base",
          "model_name": "LayoutModel",
          "model_module_version": "1.2.0",
          "state": {
            "_model_module": "@jupyter-widgets/base",
            "_model_module_version": "1.2.0",
            "_model_name": "LayoutModel",
            "_view_count": null,
            "_view_module": "@jupyter-widgets/base",
            "_view_module_version": "1.2.0",
            "_view_name": "LayoutView",
            "align_content": null,
            "align_items": null,
            "align_self": null,
            "border": null,
            "bottom": null,
            "display": null,
            "flex": null,
            "flex_flow": null,
            "grid_area": null,
            "grid_auto_columns": null,
            "grid_auto_flow": null,
            "grid_auto_rows": null,
            "grid_column": null,
            "grid_gap": null,
            "grid_row": null,
            "grid_template_areas": null,
            "grid_template_columns": null,
            "grid_template_rows": null,
            "height": null,
            "justify_content": null,
            "justify_items": null,
            "left": null,
            "margin": null,
            "max_height": null,
            "max_width": null,
            "min_height": null,
            "min_width": null,
            "object_fit": null,
            "object_position": null,
            "order": null,
            "overflow": null,
            "overflow_x": null,
            "overflow_y": null,
            "padding": null,
            "right": null,
            "top": null,
            "visibility": null,
            "width": null
          }
        },
        "5bd51ee527024e91b49cf2d11f58c8e9": {
          "model_module": "@jupyter-widgets/controls",
          "model_name": "DescriptionStyleModel",
          "model_module_version": "1.5.0",
          "state": {
            "_model_module": "@jupyter-widgets/controls",
            "_model_module_version": "1.5.0",
            "_model_name": "DescriptionStyleModel",
            "_view_count": null,
            "_view_module": "@jupyter-widgets/base",
            "_view_module_version": "1.2.0",
            "_view_name": "StyleView",
            "description_width": ""
          }
        },
        "e8594deff71f4340849a6f7a45cf4e4d": {
          "model_module": "@jupyter-widgets/base",
          "model_name": "LayoutModel",
          "model_module_version": "1.2.0",
          "state": {
            "_model_module": "@jupyter-widgets/base",
            "_model_module_version": "1.2.0",
            "_model_name": "LayoutModel",
            "_view_count": null,
            "_view_module": "@jupyter-widgets/base",
            "_view_module_version": "1.2.0",
            "_view_name": "LayoutView",
            "align_content": null,
            "align_items": null,
            "align_self": null,
            "border": null,
            "bottom": null,
            "display": null,
            "flex": null,
            "flex_flow": null,
            "grid_area": null,
            "grid_auto_columns": null,
            "grid_auto_flow": null,
            "grid_auto_rows": null,
            "grid_column": null,
            "grid_gap": null,
            "grid_row": null,
            "grid_template_areas": null,
            "grid_template_columns": null,
            "grid_template_rows": null,
            "height": null,
            "justify_content": null,
            "justify_items": null,
            "left": null,
            "margin": null,
            "max_height": null,
            "max_width": null,
            "min_height": null,
            "min_width": null,
            "object_fit": null,
            "object_position": null,
            "order": null,
            "overflow": null,
            "overflow_x": null,
            "overflow_y": null,
            "padding": null,
            "right": null,
            "top": null,
            "visibility": null,
            "width": null
          }
        },
        "acfa6f762989413fbc594f64248634e7": {
          "model_module": "@jupyter-widgets/controls",
          "model_name": "ProgressStyleModel",
          "model_module_version": "1.5.0",
          "state": {
            "_model_module": "@jupyter-widgets/controls",
            "_model_module_version": "1.5.0",
            "_model_name": "ProgressStyleModel",
            "_view_count": null,
            "_view_module": "@jupyter-widgets/base",
            "_view_module_version": "1.2.0",
            "_view_name": "StyleView",
            "bar_color": null,
            "description_width": ""
          }
        },
        "f87d913ba20b4de793b11bbb473970b9": {
          "model_module": "@jupyter-widgets/base",
          "model_name": "LayoutModel",
          "model_module_version": "1.2.0",
          "state": {
            "_model_module": "@jupyter-widgets/base",
            "_model_module_version": "1.2.0",
            "_model_name": "LayoutModel",
            "_view_count": null,
            "_view_module": "@jupyter-widgets/base",
            "_view_module_version": "1.2.0",
            "_view_name": "LayoutView",
            "align_content": null,
            "align_items": null,
            "align_self": null,
            "border": null,
            "bottom": null,
            "display": null,
            "flex": null,
            "flex_flow": null,
            "grid_area": null,
            "grid_auto_columns": null,
            "grid_auto_flow": null,
            "grid_auto_rows": null,
            "grid_column": null,
            "grid_gap": null,
            "grid_row": null,
            "grid_template_areas": null,
            "grid_template_columns": null,
            "grid_template_rows": null,
            "height": null,
            "justify_content": null,
            "justify_items": null,
            "left": null,
            "margin": null,
            "max_height": null,
            "max_width": null,
            "min_height": null,
            "min_width": null,
            "object_fit": null,
            "object_position": null,
            "order": null,
            "overflow": null,
            "overflow_x": null,
            "overflow_y": null,
            "padding": null,
            "right": null,
            "top": null,
            "visibility": null,
            "width": null
          }
        },
        "2349e7054cb44d079e84420aacacd484": {
          "model_module": "@jupyter-widgets/controls",
          "model_name": "DescriptionStyleModel",
          "model_module_version": "1.5.0",
          "state": {
            "_model_module": "@jupyter-widgets/controls",
            "_model_module_version": "1.5.0",
            "_model_name": "DescriptionStyleModel",
            "_view_count": null,
            "_view_module": "@jupyter-widgets/base",
            "_view_module_version": "1.2.0",
            "_view_name": "StyleView",
            "description_width": ""
          }
        },
        "a918374de5314c0f80be3a867f815524": {
          "model_module": "@jupyter-widgets/controls",
          "model_name": "HBoxModel",
          "model_module_version": "1.5.0",
          "state": {
            "_dom_classes": [],
            "_model_module": "@jupyter-widgets/controls",
            "_model_module_version": "1.5.0",
            "_model_name": "HBoxModel",
            "_view_count": null,
            "_view_module": "@jupyter-widgets/controls",
            "_view_module_version": "1.5.0",
            "_view_name": "HBoxView",
            "box_style": "",
            "children": [
              "IPY_MODEL_6eec736b2c8a47d49fc98dd2f545e8f3",
              "IPY_MODEL_f83881d55a3b494aa2ac83465d21829b",
              "IPY_MODEL_093a4b098bde4989909e1e41d0227afd"
            ],
            "layout": "IPY_MODEL_c523ea232ed345ef858a5060f425a5d8"
          }
        },
        "6eec736b2c8a47d49fc98dd2f545e8f3": {
          "model_module": "@jupyter-widgets/controls",
          "model_name": "HTMLModel",
          "model_module_version": "1.5.0",
          "state": {
            "_dom_classes": [],
            "_model_module": "@jupyter-widgets/controls",
            "_model_module_version": "1.5.0",
            "_model_name": "HTMLModel",
            "_view_count": null,
            "_view_module": "@jupyter-widgets/controls",
            "_view_module_version": "1.5.0",
            "_view_name": "HTMLView",
            "description": "",
            "description_tooltip": null,
            "layout": "IPY_MODEL_67bf41e091724f6a8551b4273db94c58",
            "placeholder": "​",
            "style": "IPY_MODEL_4b2777851c89483aa6078fd8ca668e68",
            "value": "config.json: 100%"
          }
        },
        "f83881d55a3b494aa2ac83465d21829b": {
          "model_module": "@jupyter-widgets/controls",
          "model_name": "FloatProgressModel",
          "model_module_version": "1.5.0",
          "state": {
            "_dom_classes": [],
            "_model_module": "@jupyter-widgets/controls",
            "_model_module_version": "1.5.0",
            "_model_name": "FloatProgressModel",
            "_view_count": null,
            "_view_module": "@jupyter-widgets/controls",
            "_view_module_version": "1.5.0",
            "_view_name": "ProgressView",
            "bar_style": "success",
            "description": "",
            "description_tooltip": null,
            "layout": "IPY_MODEL_bd7ce68e37ff494ab6b1f51e1eddbb0f",
            "max": 570,
            "min": 0,
            "orientation": "horizontal",
            "style": "IPY_MODEL_f1322cfffc4a43be8989dceffa17d222",
            "value": 570
          }
        },
        "093a4b098bde4989909e1e41d0227afd": {
          "model_module": "@jupyter-widgets/controls",
          "model_name": "HTMLModel",
          "model_module_version": "1.5.0",
          "state": {
            "_dom_classes": [],
            "_model_module": "@jupyter-widgets/controls",
            "_model_module_version": "1.5.0",
            "_model_name": "HTMLModel",
            "_view_count": null,
            "_view_module": "@jupyter-widgets/controls",
            "_view_module_version": "1.5.0",
            "_view_name": "HTMLView",
            "description": "",
            "description_tooltip": null,
            "layout": "IPY_MODEL_d224f837bc584d5485fa09c2a42d6132",
            "placeholder": "​",
            "style": "IPY_MODEL_924968dec502438d9bc06aa08b77fd05",
            "value": " 570/570 [00:00&lt;00:00, 12.2kB/s]"
          }
        },
        "c523ea232ed345ef858a5060f425a5d8": {
          "model_module": "@jupyter-widgets/base",
          "model_name": "LayoutModel",
          "model_module_version": "1.2.0",
          "state": {
            "_model_module": "@jupyter-widgets/base",
            "_model_module_version": "1.2.0",
            "_model_name": "LayoutModel",
            "_view_count": null,
            "_view_module": "@jupyter-widgets/base",
            "_view_module_version": "1.2.0",
            "_view_name": "LayoutView",
            "align_content": null,
            "align_items": null,
            "align_self": null,
            "border": null,
            "bottom": null,
            "display": null,
            "flex": null,
            "flex_flow": null,
            "grid_area": null,
            "grid_auto_columns": null,
            "grid_auto_flow": null,
            "grid_auto_rows": null,
            "grid_column": null,
            "grid_gap": null,
            "grid_row": null,
            "grid_template_areas": null,
            "grid_template_columns": null,
            "grid_template_rows": null,
            "height": null,
            "justify_content": null,
            "justify_items": null,
            "left": null,
            "margin": null,
            "max_height": null,
            "max_width": null,
            "min_height": null,
            "min_width": null,
            "object_fit": null,
            "object_position": null,
            "order": null,
            "overflow": null,
            "overflow_x": null,
            "overflow_y": null,
            "padding": null,
            "right": null,
            "top": null,
            "visibility": null,
            "width": null
          }
        },
        "67bf41e091724f6a8551b4273db94c58": {
          "model_module": "@jupyter-widgets/base",
          "model_name": "LayoutModel",
          "model_module_version": "1.2.0",
          "state": {
            "_model_module": "@jupyter-widgets/base",
            "_model_module_version": "1.2.0",
            "_model_name": "LayoutModel",
            "_view_count": null,
            "_view_module": "@jupyter-widgets/base",
            "_view_module_version": "1.2.0",
            "_view_name": "LayoutView",
            "align_content": null,
            "align_items": null,
            "align_self": null,
            "border": null,
            "bottom": null,
            "display": null,
            "flex": null,
            "flex_flow": null,
            "grid_area": null,
            "grid_auto_columns": null,
            "grid_auto_flow": null,
            "grid_auto_rows": null,
            "grid_column": null,
            "grid_gap": null,
            "grid_row": null,
            "grid_template_areas": null,
            "grid_template_columns": null,
            "grid_template_rows": null,
            "height": null,
            "justify_content": null,
            "justify_items": null,
            "left": null,
            "margin": null,
            "max_height": null,
            "max_width": null,
            "min_height": null,
            "min_width": null,
            "object_fit": null,
            "object_position": null,
            "order": null,
            "overflow": null,
            "overflow_x": null,
            "overflow_y": null,
            "padding": null,
            "right": null,
            "top": null,
            "visibility": null,
            "width": null
          }
        },
        "4b2777851c89483aa6078fd8ca668e68": {
          "model_module": "@jupyter-widgets/controls",
          "model_name": "DescriptionStyleModel",
          "model_module_version": "1.5.0",
          "state": {
            "_model_module": "@jupyter-widgets/controls",
            "_model_module_version": "1.5.0",
            "_model_name": "DescriptionStyleModel",
            "_view_count": null,
            "_view_module": "@jupyter-widgets/base",
            "_view_module_version": "1.2.0",
            "_view_name": "StyleView",
            "description_width": ""
          }
        },
        "bd7ce68e37ff494ab6b1f51e1eddbb0f": {
          "model_module": "@jupyter-widgets/base",
          "model_name": "LayoutModel",
          "model_module_version": "1.2.0",
          "state": {
            "_model_module": "@jupyter-widgets/base",
            "_model_module_version": "1.2.0",
            "_model_name": "LayoutModel",
            "_view_count": null,
            "_view_module": "@jupyter-widgets/base",
            "_view_module_version": "1.2.0",
            "_view_name": "LayoutView",
            "align_content": null,
            "align_items": null,
            "align_self": null,
            "border": null,
            "bottom": null,
            "display": null,
            "flex": null,
            "flex_flow": null,
            "grid_area": null,
            "grid_auto_columns": null,
            "grid_auto_flow": null,
            "grid_auto_rows": null,
            "grid_column": null,
            "grid_gap": null,
            "grid_row": null,
            "grid_template_areas": null,
            "grid_template_columns": null,
            "grid_template_rows": null,
            "height": null,
            "justify_content": null,
            "justify_items": null,
            "left": null,
            "margin": null,
            "max_height": null,
            "max_width": null,
            "min_height": null,
            "min_width": null,
            "object_fit": null,
            "object_position": null,
            "order": null,
            "overflow": null,
            "overflow_x": null,
            "overflow_y": null,
            "padding": null,
            "right": null,
            "top": null,
            "visibility": null,
            "width": null
          }
        },
        "f1322cfffc4a43be8989dceffa17d222": {
          "model_module": "@jupyter-widgets/controls",
          "model_name": "ProgressStyleModel",
          "model_module_version": "1.5.0",
          "state": {
            "_model_module": "@jupyter-widgets/controls",
            "_model_module_version": "1.5.0",
            "_model_name": "ProgressStyleModel",
            "_view_count": null,
            "_view_module": "@jupyter-widgets/base",
            "_view_module_version": "1.2.0",
            "_view_name": "StyleView",
            "bar_color": null,
            "description_width": ""
          }
        },
        "d224f837bc584d5485fa09c2a42d6132": {
          "model_module": "@jupyter-widgets/base",
          "model_name": "LayoutModel",
          "model_module_version": "1.2.0",
          "state": {
            "_model_module": "@jupyter-widgets/base",
            "_model_module_version": "1.2.0",
            "_model_name": "LayoutModel",
            "_view_count": null,
            "_view_module": "@jupyter-widgets/base",
            "_view_module_version": "1.2.0",
            "_view_name": "LayoutView",
            "align_content": null,
            "align_items": null,
            "align_self": null,
            "border": null,
            "bottom": null,
            "display": null,
            "flex": null,
            "flex_flow": null,
            "grid_area": null,
            "grid_auto_columns": null,
            "grid_auto_flow": null,
            "grid_auto_rows": null,
            "grid_column": null,
            "grid_gap": null,
            "grid_row": null,
            "grid_template_areas": null,
            "grid_template_columns": null,
            "grid_template_rows": null,
            "height": null,
            "justify_content": null,
            "justify_items": null,
            "left": null,
            "margin": null,
            "max_height": null,
            "max_width": null,
            "min_height": null,
            "min_width": null,
            "object_fit": null,
            "object_position": null,
            "order": null,
            "overflow": null,
            "overflow_x": null,
            "overflow_y": null,
            "padding": null,
            "right": null,
            "top": null,
            "visibility": null,
            "width": null
          }
        },
        "924968dec502438d9bc06aa08b77fd05": {
          "model_module": "@jupyter-widgets/controls",
          "model_name": "DescriptionStyleModel",
          "model_module_version": "1.5.0",
          "state": {
            "_model_module": "@jupyter-widgets/controls",
            "_model_module_version": "1.5.0",
            "_model_name": "DescriptionStyleModel",
            "_view_count": null,
            "_view_module": "@jupyter-widgets/base",
            "_view_module_version": "1.2.0",
            "_view_name": "StyleView",
            "description_width": ""
          }
        },
        "3c623a496f284332b9f29825d6d33abe": {
          "model_module": "@jupyter-widgets/controls",
          "model_name": "HBoxModel",
          "model_module_version": "1.5.0",
          "state": {
            "_dom_classes": [],
            "_model_module": "@jupyter-widgets/controls",
            "_model_module_version": "1.5.0",
            "_model_name": "HBoxModel",
            "_view_count": null,
            "_view_module": "@jupyter-widgets/controls",
            "_view_module_version": "1.5.0",
            "_view_name": "HBoxView",
            "box_style": "",
            "children": [
              "IPY_MODEL_1607ae6e5af64f6988bfa012108da008",
              "IPY_MODEL_e36faed1c9a94b0a97ed6ca93018c34e",
              "IPY_MODEL_bfb0c08e07bc415ea3190a0b92c03ffa"
            ],
            "layout": "IPY_MODEL_d2c0f9bc188842b18867a8768413ebd1"
          }
        },
        "1607ae6e5af64f6988bfa012108da008": {
          "model_module": "@jupyter-widgets/controls",
          "model_name": "HTMLModel",
          "model_module_version": "1.5.0",
          "state": {
            "_dom_classes": [],
            "_model_module": "@jupyter-widgets/controls",
            "_model_module_version": "1.5.0",
            "_model_name": "HTMLModel",
            "_view_count": null,
            "_view_module": "@jupyter-widgets/controls",
            "_view_module_version": "1.5.0",
            "_view_name": "HTMLView",
            "description": "",
            "description_tooltip": null,
            "layout": "IPY_MODEL_bc9bccb3b12b485ebc3093029998a122",
            "placeholder": "​",
            "style": "IPY_MODEL_13565534d679462f85739cd1247eecb8",
            "value": "model.safetensors: 100%"
          }
        },
        "e36faed1c9a94b0a97ed6ca93018c34e": {
          "model_module": "@jupyter-widgets/controls",
          "model_name": "FloatProgressModel",
          "model_module_version": "1.5.0",
          "state": {
            "_dom_classes": [],
            "_model_module": "@jupyter-widgets/controls",
            "_model_module_version": "1.5.0",
            "_model_name": "FloatProgressModel",
            "_view_count": null,
            "_view_module": "@jupyter-widgets/controls",
            "_view_module_version": "1.5.0",
            "_view_name": "ProgressView",
            "bar_style": "success",
            "description": "",
            "description_tooltip": null,
            "layout": "IPY_MODEL_bdd6a293e9e9410f981a76248ad34eda",
            "max": 440449768,
            "min": 0,
            "orientation": "horizontal",
            "style": "IPY_MODEL_ba4d3bed76d34103ab081133df7c0908",
            "value": 440449768
          }
        },
        "bfb0c08e07bc415ea3190a0b92c03ffa": {
          "model_module": "@jupyter-widgets/controls",
          "model_name": "HTMLModel",
          "model_module_version": "1.5.0",
          "state": {
            "_dom_classes": [],
            "_model_module": "@jupyter-widgets/controls",
            "_model_module_version": "1.5.0",
            "_model_name": "HTMLModel",
            "_view_count": null,
            "_view_module": "@jupyter-widgets/controls",
            "_view_module_version": "1.5.0",
            "_view_name": "HTMLView",
            "description": "",
            "description_tooltip": null,
            "layout": "IPY_MODEL_2c2250b00a774af29ef85c8b6b2c6ccc",
            "placeholder": "​",
            "style": "IPY_MODEL_20a13eb85eaa4ab399c8fb46e6e29d9f",
            "value": " 440M/440M [00:02&lt;00:00, 158MB/s]"
          }
        },
        "d2c0f9bc188842b18867a8768413ebd1": {
          "model_module": "@jupyter-widgets/base",
          "model_name": "LayoutModel",
          "model_module_version": "1.2.0",
          "state": {
            "_model_module": "@jupyter-widgets/base",
            "_model_module_version": "1.2.0",
            "_model_name": "LayoutModel",
            "_view_count": null,
            "_view_module": "@jupyter-widgets/base",
            "_view_module_version": "1.2.0",
            "_view_name": "LayoutView",
            "align_content": null,
            "align_items": null,
            "align_self": null,
            "border": null,
            "bottom": null,
            "display": null,
            "flex": null,
            "flex_flow": null,
            "grid_area": null,
            "grid_auto_columns": null,
            "grid_auto_flow": null,
            "grid_auto_rows": null,
            "grid_column": null,
            "grid_gap": null,
            "grid_row": null,
            "grid_template_areas": null,
            "grid_template_columns": null,
            "grid_template_rows": null,
            "height": null,
            "justify_content": null,
            "justify_items": null,
            "left": null,
            "margin": null,
            "max_height": null,
            "max_width": null,
            "min_height": null,
            "min_width": null,
            "object_fit": null,
            "object_position": null,
            "order": null,
            "overflow": null,
            "overflow_x": null,
            "overflow_y": null,
            "padding": null,
            "right": null,
            "top": null,
            "visibility": null,
            "width": null
          }
        },
        "bc9bccb3b12b485ebc3093029998a122": {
          "model_module": "@jupyter-widgets/base",
          "model_name": "LayoutModel",
          "model_module_version": "1.2.0",
          "state": {
            "_model_module": "@jupyter-widgets/base",
            "_model_module_version": "1.2.0",
            "_model_name": "LayoutModel",
            "_view_count": null,
            "_view_module": "@jupyter-widgets/base",
            "_view_module_version": "1.2.0",
            "_view_name": "LayoutView",
            "align_content": null,
            "align_items": null,
            "align_self": null,
            "border": null,
            "bottom": null,
            "display": null,
            "flex": null,
            "flex_flow": null,
            "grid_area": null,
            "grid_auto_columns": null,
            "grid_auto_flow": null,
            "grid_auto_rows": null,
            "grid_column": null,
            "grid_gap": null,
            "grid_row": null,
            "grid_template_areas": null,
            "grid_template_columns": null,
            "grid_template_rows": null,
            "height": null,
            "justify_content": null,
            "justify_items": null,
            "left": null,
            "margin": null,
            "max_height": null,
            "max_width": null,
            "min_height": null,
            "min_width": null,
            "object_fit": null,
            "object_position": null,
            "order": null,
            "overflow": null,
            "overflow_x": null,
            "overflow_y": null,
            "padding": null,
            "right": null,
            "top": null,
            "visibility": null,
            "width": null
          }
        },
        "13565534d679462f85739cd1247eecb8": {
          "model_module": "@jupyter-widgets/controls",
          "model_name": "DescriptionStyleModel",
          "model_module_version": "1.5.0",
          "state": {
            "_model_module": "@jupyter-widgets/controls",
            "_model_module_version": "1.5.0",
            "_model_name": "DescriptionStyleModel",
            "_view_count": null,
            "_view_module": "@jupyter-widgets/base",
            "_view_module_version": "1.2.0",
            "_view_name": "StyleView",
            "description_width": ""
          }
        },
        "bdd6a293e9e9410f981a76248ad34eda": {
          "model_module": "@jupyter-widgets/base",
          "model_name": "LayoutModel",
          "model_module_version": "1.2.0",
          "state": {
            "_model_module": "@jupyter-widgets/base",
            "_model_module_version": "1.2.0",
            "_model_name": "LayoutModel",
            "_view_count": null,
            "_view_module": "@jupyter-widgets/base",
            "_view_module_version": "1.2.0",
            "_view_name": "LayoutView",
            "align_content": null,
            "align_items": null,
            "align_self": null,
            "border": null,
            "bottom": null,
            "display": null,
            "flex": null,
            "flex_flow": null,
            "grid_area": null,
            "grid_auto_columns": null,
            "grid_auto_flow": null,
            "grid_auto_rows": null,
            "grid_column": null,
            "grid_gap": null,
            "grid_row": null,
            "grid_template_areas": null,
            "grid_template_columns": null,
            "grid_template_rows": null,
            "height": null,
            "justify_content": null,
            "justify_items": null,
            "left": null,
            "margin": null,
            "max_height": null,
            "max_width": null,
            "min_height": null,
            "min_width": null,
            "object_fit": null,
            "object_position": null,
            "order": null,
            "overflow": null,
            "overflow_x": null,
            "overflow_y": null,
            "padding": null,
            "right": null,
            "top": null,
            "visibility": null,
            "width": null
          }
        },
        "ba4d3bed76d34103ab081133df7c0908": {
          "model_module": "@jupyter-widgets/controls",
          "model_name": "ProgressStyleModel",
          "model_module_version": "1.5.0",
          "state": {
            "_model_module": "@jupyter-widgets/controls",
            "_model_module_version": "1.5.0",
            "_model_name": "ProgressStyleModel",
            "_view_count": null,
            "_view_module": "@jupyter-widgets/base",
            "_view_module_version": "1.2.0",
            "_view_name": "StyleView",
            "bar_color": null,
            "description_width": ""
          }
        },
        "2c2250b00a774af29ef85c8b6b2c6ccc": {
          "model_module": "@jupyter-widgets/base",
          "model_name": "LayoutModel",
          "model_module_version": "1.2.0",
          "state": {
            "_model_module": "@jupyter-widgets/base",
            "_model_module_version": "1.2.0",
            "_model_name": "LayoutModel",
            "_view_count": null,
            "_view_module": "@jupyter-widgets/base",
            "_view_module_version": "1.2.0",
            "_view_name": "LayoutView",
            "align_content": null,
            "align_items": null,
            "align_self": null,
            "border": null,
            "bottom": null,
            "display": null,
            "flex": null,
            "flex_flow": null,
            "grid_area": null,
            "grid_auto_columns": null,
            "grid_auto_flow": null,
            "grid_auto_rows": null,
            "grid_column": null,
            "grid_gap": null,
            "grid_row": null,
            "grid_template_areas": null,
            "grid_template_columns": null,
            "grid_template_rows": null,
            "height": null,
            "justify_content": null,
            "justify_items": null,
            "left": null,
            "margin": null,
            "max_height": null,
            "max_width": null,
            "min_height": null,
            "min_width": null,
            "object_fit": null,
            "object_position": null,
            "order": null,
            "overflow": null,
            "overflow_x": null,
            "overflow_y": null,
            "padding": null,
            "right": null,
            "top": null,
            "visibility": null,
            "width": null
          }
        },
        "20a13eb85eaa4ab399c8fb46e6e29d9f": {
          "model_module": "@jupyter-widgets/controls",
          "model_name": "DescriptionStyleModel",
          "model_module_version": "1.5.0",
          "state": {
            "_model_module": "@jupyter-widgets/controls",
            "_model_module_version": "1.5.0",
            "_model_name": "DescriptionStyleModel",
            "_view_count": null,
            "_view_module": "@jupyter-widgets/base",
            "_view_module_version": "1.2.0",
            "_view_name": "StyleView",
            "description_width": ""
          }
        }
      }
    }
  },
  "cells": [
    {
      "cell_type": "markdown",
      "metadata": {
        "id": "iVuaBWBN6OBW"
      },
      "source": [
        "# **Text Classification using BERT**\n"
      ]
    },
    {
      "cell_type": "markdown",
      "metadata": {
        "id": "jwYCqM646X2u"
      },
      "source": [
        "# **Milestone 1: Learning and understanding the BERT ML technique and its significance in NLP.**"
      ]
    },
    {
      "cell_type": "code",
      "metadata": {
        "id": "vbeROSdhx_nI",
        "colab": {
          "base_uri": "https://localhost:8080/"
        },
        "outputId": "4ea7bb8d-76ed-42ca-8d33-9918f16bce84"
      },
      "source": [
        "#@title Run this to download data and prepare our environment! { display-mode: \"form\" }\n",
        "!pip install transformers\n",
        "import os\n",
        "import gdown\n",
        "import torch\n",
        "import numpy as np\n",
        "import seaborn as sns\n",
        "import transformers\n",
        "import pandas as pd\n",
        "import matplotlib.pyplot as plt\n",
        "from sklearn.model_selection import train_test_split\n",
        "from keras.utils import pad_sequences\n",
        "from sklearn import metrics\n",
        "\n",
        "from transformers import BertTokenizer\n",
        "from transformers import get_linear_schedule_with_warmup\n",
        "from transformers import BertForSequenceClassification, BertConfig\n",
        "from torch.utils.data import TensorDataset, DataLoader, RandomSampler, SequentialSampler\n",
        "from torch.optim import AdamW\n",
        "\n",
        "%matplotlib inline\n",
        "\n",
        "# gdown.download('https://drive.google.com/uc?id=1q4U2gVY9tWEPdT6W-pdQpKmo152QqWLE', 'finance_train.csv', True)\n",
        "# gdown.download('https://drive.google.com/uc?id=1nIBqAsItwVEGVayYTgvybz7HeK0asom0', 'finance_test.csv', True)\n",
        "\n",
        "!wget 'https://storage.googleapis.com/inspirit-ai-data-bucket-1/Data/AI%20Scholars/Sessions%206%20-%2010%20(Projects)/Project%20-%20NLP%2BFinance/finance_test.csv'\n",
        "!wget 'https://storage.googleapis.com/inspirit-ai-data-bucket-1/Data/AI%20Scholars/Sessions%206%20-%2010%20(Projects)/Project%20-%20NLP%2BFinance/finance_train.csv'\n",
        "\n",
        "def get_finance_train():\n",
        "  df_train = pd.read_csv(\"finance_train.csv\")\n",
        "  return df_train\n",
        "def get_finance_test():\n",
        "  df_test = pd.read_csv(\"finance_test.csv\")\n",
        "  return df_test\n",
        "\n",
        "def flat_accuracy(preds, labels):\n",
        "    pred_flat = np.argmax(preds, axis=1).flatten()\n",
        "    labels_flat = labels.flatten()\n",
        "    return np.sum(pred_flat == labels_flat) / len(labels_flat)\n",
        "\n",
        "print (\"Train and Test Files Loaded as train.csv and test.csv\")\n",
        "\n",
        "LABEL_MAP = {0 : \"negative\", 1 : \"neutral\", 2 : \"positive\"}\n",
        "NONE = 4 * [None]\n",
        "RND_SEED=2020\n",
        "\n",
        "def plot_confusion_matrix(y_true,y_predicted):\n",
        "  cm = metrics.confusion_matrix(y_true, y_predicted)\n",
        "  print (\"Plotting the Confusion Matrix\")\n",
        "  labels = [\"Negative\",\"Neutral\",\"Positive\"]\n",
        "  df_cm = pd.DataFrame(cm,index =labels,columns = labels)\n",
        "  fig = plt.figure(figsize=(7,6))\n",
        "  res = sns.heatmap(df_cm, annot=True,cmap='Blues', fmt='g')\n",
        "  plt.yticks([0.5,1.5,2.5], labels,va='center')\n",
        "  plt.title('Confusion Matrix - TestData')\n",
        "  plt.ylabel('True label')\n",
        "  plt.xlabel('Predicted label')\n",
        "  plt.show()\n",
        "  plt.close()"
      ],
      "execution_count": 1,
      "outputs": [
        {
          "output_type": "stream",
          "name": "stdout",
          "text": [
            "Requirement already satisfied: transformers in /usr/local/lib/python3.10/dist-packages (4.42.4)\n",
            "Requirement already satisfied: filelock in /usr/local/lib/python3.10/dist-packages (from transformers) (3.15.4)\n",
            "Requirement already satisfied: huggingface-hub<1.0,>=0.23.2 in /usr/local/lib/python3.10/dist-packages (from transformers) (0.23.5)\n",
            "Requirement already satisfied: numpy<2.0,>=1.17 in /usr/local/lib/python3.10/dist-packages (from transformers) (1.26.4)\n",
            "Requirement already satisfied: packaging>=20.0 in /usr/local/lib/python3.10/dist-packages (from transformers) (24.1)\n",
            "Requirement already satisfied: pyyaml>=5.1 in /usr/local/lib/python3.10/dist-packages (from transformers) (6.0.2)\n",
            "Requirement already satisfied: regex!=2019.12.17 in /usr/local/lib/python3.10/dist-packages (from transformers) (2024.5.15)\n",
            "Requirement already satisfied: requests in /usr/local/lib/python3.10/dist-packages (from transformers) (2.32.3)\n",
            "Requirement already satisfied: safetensors>=0.4.1 in /usr/local/lib/python3.10/dist-packages (from transformers) (0.4.4)\n",
            "Requirement already satisfied: tokenizers<0.20,>=0.19 in /usr/local/lib/python3.10/dist-packages (from transformers) (0.19.1)\n",
            "Requirement already satisfied: tqdm>=4.27 in /usr/local/lib/python3.10/dist-packages (from transformers) (4.66.5)\n",
            "Requirement already satisfied: fsspec>=2023.5.0 in /usr/local/lib/python3.10/dist-packages (from huggingface-hub<1.0,>=0.23.2->transformers) (2024.6.1)\n",
            "Requirement already satisfied: typing-extensions>=3.7.4.3 in /usr/local/lib/python3.10/dist-packages (from huggingface-hub<1.0,>=0.23.2->transformers) (4.12.2)\n",
            "Requirement already satisfied: charset-normalizer<4,>=2 in /usr/local/lib/python3.10/dist-packages (from requests->transformers) (3.3.2)\n",
            "Requirement already satisfied: idna<4,>=2.5 in /usr/local/lib/python3.10/dist-packages (from requests->transformers) (3.8)\n",
            "Requirement already satisfied: urllib3<3,>=1.21.1 in /usr/local/lib/python3.10/dist-packages (from requests->transformers) (2.0.7)\n",
            "Requirement already satisfied: certifi>=2017.4.17 in /usr/local/lib/python3.10/dist-packages (from requests->transformers) (2024.7.4)\n",
            "--2024-09-03 00:53:45--  https://storage.googleapis.com/inspirit-ai-data-bucket-1/Data/AI%20Scholars/Sessions%206%20-%2010%20(Projects)/Project%20-%20NLP%2BFinance/finance_test.csv\n",
            "Resolving storage.googleapis.com (storage.googleapis.com)... 64.233.170.207, 142.251.175.207, 74.125.24.207, ...\n",
            "Connecting to storage.googleapis.com (storage.googleapis.com)|64.233.170.207|:443... connected.\n",
            "HTTP request sent, awaiting response... 200 OK\n",
            "Length: 29264 (29K) [application/vnd.ms-excel]\n",
            "Saving to: ‘finance_test.csv’\n",
            "\n",
            "finance_test.csv    100%[===================>]  28.58K  --.-KB/s    in 0.01s   \n",
            "\n",
            "2024-09-03 00:53:45 (2.52 MB/s) - ‘finance_test.csv’ saved [29264/29264]\n",
            "\n",
            "--2024-09-03 00:53:45--  https://storage.googleapis.com/inspirit-ai-data-bucket-1/Data/AI%20Scholars/Sessions%206%20-%2010%20(Projects)/Project%20-%20NLP%2BFinance/finance_train.csv\n",
            "Resolving storage.googleapis.com (storage.googleapis.com)... 64.233.170.207, 142.251.175.207, 74.125.24.207, ...\n",
            "Connecting to storage.googleapis.com (storage.googleapis.com)|64.233.170.207|:443... connected.\n",
            "HTTP request sent, awaiting response... 200 OK\n",
            "Length: 258593 (253K) [application/vnd.ms-excel]\n",
            "Saving to: ‘finance_train.csv’\n",
            "\n",
            "finance_train.csv   100%[===================>] 252.53K   408KB/s    in 0.6s    \n",
            "\n",
            "2024-09-03 00:53:46 (408 KB/s) - ‘finance_train.csv’ saved [258593/258593]\n",
            "\n",
            "Train and Test Files Loaded as train.csv and test.csv\n"
          ]
        }
      ]
    },
    {
      "cell_type": "markdown",
      "metadata": {
        "id": "ZehuM8rNNdef"
      },
      "source": [
        "## Let's Talk about Bert!\n",
        "\n",
        "As described above, BERT is a pretrained NLP model that is more contextually aware than anything we've seen before. Specifically, it is an NLP model designed to pre-train deep bidirectional representations from unlabeled text by jointly conditioning on what precedes and succeeds a word. Therefore, it is better able to capture a word within the context of a sentence. Some other important highlights about BERT are signified below:\n",
        "\n",
        "1. **Quick Training:**  BERT comes pre-trained, so we can train it on our data very quickly.\n",
        "\n",
        "2. **Less Data:** Because BERT is pre-trained, we don't need as much training data.\n",
        "\n",
        "3. **Great Results:** BERT has proven to be an excellent NLP model.\n",
        "\n",
        "4. **Multi-Lingual Capabilities:** If we want to apply our network to foreign markets, BERT works on more than just English!"
      ]
    },
    {
      "cell_type": "markdown",
      "metadata": {
        "id": "2cFNUTzRPCXQ"
      },
      "source": [
        "# **Milestone 2: Preprocessing data for BERT and training our model.**\n",
        "\n"
      ]
    },
    {
      "cell_type": "markdown",
      "metadata": {
        "id": "ACBeiS6GPPYk"
      },
      "source": [
        "## **Reading in the Datasets**\n",
        "\n",
        "Just as in previous notebooks, use the `get_finance_train()` and `get_finance_test()` methods to get the train and test datasets and save them in variables named `df_train` and `df_test` respectively."
      ]
    },
    {
      "cell_type": "code",
      "metadata": {
        "id": "hwAbeEoKPit1"
      },
      "source": [
        "df_train = get_finance_train()\n",
        "df_test = get_finance_train()"
      ],
      "execution_count": 2,
      "outputs": []
    },
    {
      "cell_type": "markdown",
      "metadata": {
        "id": "7W-poJDNSRVL"
      },
      "source": [
        "For simplicity, save sentences and labels columns of `df_train` in variables named `sentences` and `labels` respectively.\n",
        "\n",
        "\n",
        "**Note: To access a column from a dataframe based on the column name, you can use the code structure: `column = df_train[\"column_name\"].values`. Replace `column_name` with your desired column to access it.**"
      ]
    },
    {
      "cell_type": "code",
      "metadata": {
        "id": "1oQiI3g6AJ-d"
      },
      "source": [
        "sentences = df_train[\"Sentence\"].values\n",
        "labels = df_train[\"Label\"].values"
      ],
      "execution_count": 3,
      "outputs": []
    },
    {
      "cell_type": "markdown",
      "metadata": {
        "id": "-NXZ7Fw1AmOr"
      },
      "source": [
        "## **Tokenization & Input Formatting**"
      ]
    },
    {
      "cell_type": "markdown",
      "metadata": {
        "id": "8lxvV54ZAuN4"
      },
      "source": [
        "Just as before, we need to break down our input sentences to smaller tokens. BERT expects input sentences to be broken down into individual tokens and the input data needs to follow BERT's pre-defined format."
      ]
    },
    {
      "cell_type": "markdown",
      "metadata": {
        "id": "FGEtAsHJBfBo"
      },
      "source": [
        "### BERT Tokenizer ###\n",
        "\n",
        "The BERT Tokenizer is a two-step process in processing our data. First, we will initialize the tokenizer using our dataset. Thereafter, we will convert the original sentences to tokenized sentences."
      ]
    },
    {
      "cell_type": "markdown",
      "metadata": {
        "id": "_-aDHt-_VauL"
      },
      "source": [
        "#### Step 1 : Create the Tokenizer ####"
      ]
    },
    {
      "cell_type": "markdown",
      "metadata": {
        "id": "Axi-xi5ZBqjm"
      },
      "source": [
        "#### **Coding Exercise: Tokenize with Bert**\n",
        "\n",
        "When using BERT, our text needs to be split into tokens and those tokens need to be mapped to an index using BERT's vocabulary. We will use the `BertTokenizer` module from the transformer library to tokenize our data. To do so, call the function `BertTokenizer.from_pretrained(\"bert-base-uncased\", do_lower_case = True)` and save the returned value in a variable named `tokenizer`."
      ]
    },
    {
      "cell_type": "code",
      "metadata": {
        "id": "8vOrBr3cRzHs",
        "colab": {
          "base_uri": "https://localhost:8080/",
          "height": 269,
          "referenced_widgets": [
            "5a5768dec85f4cd5b43d221748674f12",
            "d8d88b1d37014b1ebc4c3b2ec20b5224",
            "89c757fdc51747f9964bae0827df9268",
            "2715663fdafa4923beb65bdfd2d80c01",
            "e2c61af8325e40fa9046f535c92fe336",
            "bc2819271c484f6e88c489f8583b6782",
            "ac5c784afb7f4585a5c5f5822dfe58ba",
            "1e4dd4ccc0db4322a1d5dc40b75ce2f6",
            "99709d774f62432484ebeb5cce11e5a3",
            "f9d308e0c5a74b049198fe3ea0fa6b05",
            "db07b430280f4788af3ace4726eba091",
            "d34148bfdc70433cb4288e48d3ce8fc5",
            "0017130c79ef47ff90cf76cf3a52ae5c",
            "a30673db085647f7ba8b3b0a15923884",
            "dedfa987804c4812a30878e7d117bbc1",
            "b6b685104479405c83ba6d5732b46a93",
            "5696e0ce3729497f833758c5ccb9f74e",
            "473c8afeaceb4061a48ccf03ef0aab8d",
            "59f7246889fa46fd8f6b8261a1905ccb",
            "9f9095390bde4edc9a435471acdfe2fe",
            "fd3f4d8757f84d61924e792c0a62dab6",
            "48f9f0164bc440aa86ac27b727e94efe",
            "bcd5c406259549109858a3f013a91951",
            "7e3ebf9fbac441a59d3df82683025051",
            "053a7faf2a76402d977262722047a986",
            "98a261e853574d1db1fa935a5675e3b8",
            "5e75be42ca374209a99a26141ce67e39",
            "65c82a2968344a21b74381a505992238",
            "5bd51ee527024e91b49cf2d11f58c8e9",
            "e8594deff71f4340849a6f7a45cf4e4d",
            "acfa6f762989413fbc594f64248634e7",
            "f87d913ba20b4de793b11bbb473970b9",
            "2349e7054cb44d079e84420aacacd484",
            "a918374de5314c0f80be3a867f815524",
            "6eec736b2c8a47d49fc98dd2f545e8f3",
            "f83881d55a3b494aa2ac83465d21829b",
            "093a4b098bde4989909e1e41d0227afd",
            "c523ea232ed345ef858a5060f425a5d8",
            "67bf41e091724f6a8551b4273db94c58",
            "4b2777851c89483aa6078fd8ca668e68",
            "bd7ce68e37ff494ab6b1f51e1eddbb0f",
            "f1322cfffc4a43be8989dceffa17d222",
            "d224f837bc584d5485fa09c2a42d6132",
            "924968dec502438d9bc06aa08b77fd05"
          ]
        },
        "outputId": "5b21c280-77cb-4530-ecb7-1851d4d7bc0e"
      },
      "source": [
        "tokenizer = BertTokenizer.from_pretrained(\"bert-base-uncased\", do_lower_case = True)"
      ],
      "execution_count": 4,
      "outputs": [
        {
          "output_type": "stream",
          "name": "stderr",
          "text": [
            "/usr/local/lib/python3.10/dist-packages/huggingface_hub/utils/_token.py:89: UserWarning: \n",
            "The secret `HF_TOKEN` does not exist in your Colab secrets.\n",
            "To authenticate with the Hugging Face Hub, create a token in your settings tab (https://huggingface.co/settings/tokens), set it as secret in your Google Colab and restart your session.\n",
            "You will be able to reuse this secret in all of your notebooks.\n",
            "Please note that authentication is recommended but still optional to access public models or datasets.\n",
            "  warnings.warn(\n"
          ]
        },
        {
          "output_type": "display_data",
          "data": {
            "text/plain": [
              "tokenizer_config.json:   0%|          | 0.00/48.0 [00:00<?, ?B/s]"
            ],
            "application/vnd.jupyter.widget-view+json": {
              "version_major": 2,
              "version_minor": 0,
              "model_id": "5a5768dec85f4cd5b43d221748674f12"
            }
          },
          "metadata": {}
        },
        {
          "output_type": "display_data",
          "data": {
            "text/plain": [
              "vocab.txt:   0%|          | 0.00/232k [00:00<?, ?B/s]"
            ],
            "application/vnd.jupyter.widget-view+json": {
              "version_major": 2,
              "version_minor": 0,
              "model_id": "d34148bfdc70433cb4288e48d3ce8fc5"
            }
          },
          "metadata": {}
        },
        {
          "output_type": "display_data",
          "data": {
            "text/plain": [
              "tokenizer.json:   0%|          | 0.00/466k [00:00<?, ?B/s]"
            ],
            "application/vnd.jupyter.widget-view+json": {
              "version_major": 2,
              "version_minor": 0,
              "model_id": "bcd5c406259549109858a3f013a91951"
            }
          },
          "metadata": {}
        },
        {
          "output_type": "display_data",
          "data": {
            "text/plain": [
              "config.json:   0%|          | 0.00/570 [00:00<?, ?B/s]"
            ],
            "application/vnd.jupyter.widget-view+json": {
              "version_major": 2,
              "version_minor": 0,
              "model_id": "a918374de5314c0f80be3a867f815524"
            }
          },
          "metadata": {}
        }
      ]
    },
    {
      "cell_type": "markdown",
      "metadata": {
        "id": "roUE0jNwTUjt"
      },
      "source": [
        "#### **Coding Exercise: Vocabulary Size**\n",
        "\n",
        "The BERT Tokenizer object you created keeps track of the size of the vocabulary we are dealing with in this dataset. Find and print the number of unique tokens in the BERT model by calling `tokenizer.vocab_size`."
      ]
    },
    {
      "cell_type": "code",
      "metadata": {
        "id": "RQVK-3jNTmtj",
        "colab": {
          "base_uri": "https://localhost:8080/"
        },
        "outputId": "eedc9175-adb3-4fc0-db63-ef85107e8530"
      },
      "source": [
        "### YOUR CODE HERE\n",
        "num_tokens = tokenizer.vocab_size\n",
        "print(\"Number of Unique Tokens in the BERT Model:\", num_tokens)\n",
        "### END CODE"
      ],
      "execution_count": 5,
      "outputs": [
        {
          "output_type": "stream",
          "name": "stdout",
          "text": [
            "Number of Unique Tokens in the BERT Model: 30522\n"
          ]
        }
      ]
    },
    {
      "cell_type": "markdown",
      "metadata": {
        "id": "OsCBSEwTUFDF"
      },
      "source": [
        "#### **Coding Exercise: Applying the tokenizer**\n",
        "\n",
        "Apply the tokenizer to the first element in your training dataset: `sentences[0]`. To do so, call the `tokenizer.tokenize(SENTENCE)` function while passing in your sentence in place of `SENTENCE` as shown. Print the original sentence relative to the tokenized sentence."
      ]
    },
    {
      "cell_type": "code",
      "metadata": {
        "id": "NVoeUVNcUjNu",
        "colab": {
          "base_uri": "https://localhost:8080/"
        },
        "outputId": "bc996b1b-7aaf-40c0-dbfc-4ddf44f83230"
      },
      "source": [
        "### YOUR CODE HERE\n",
        "tokenizer.tokenize(sentences[0])"
      ],
      "execution_count": 6,
      "outputs": [
        {
          "output_type": "execute_result",
          "data": {
            "text/plain": [
              "['auto',\n",
              " '##tan',\n",
              " '##k',\n",
              " 'group',\n",
              " 'is',\n",
              " 'part',\n",
              " 'of',\n",
              " 'as',\n",
              " '##po',\n",
              " \"'\",\n",
              " 's',\n",
              " 'systems',\n",
              " 'division',\n",
              " '.']"
            ]
          },
          "metadata": {},
          "execution_count": 6
        }
      ]
    },
    {
      "cell_type": "markdown",
      "metadata": {
        "id": "LzsYubUFU_uJ"
      },
      "source": [
        "#### **Discussion Exercise: BERT Tokens**\n",
        "\n",
        "What do you think about the BERT generated tokens? What do think is the significance of some of the stranger tokens and the # characters?"
      ]
    },
    {
      "cell_type": "markdown",
      "metadata": {
        "id": "dOk0VvHAEFr9"
      },
      "source": [
        "#### Step 2 : Map the tokens to our index ####"
      ]
    },
    {
      "cell_type": "markdown",
      "metadata": {
        "id": "z0l2OHikEX8a"
      },
      "source": [
        "Each token has a corresponding index in the vocabulary. To keep track of the vector representations more concisely, we will convert each of the tokenized lists into a list of indices.\n",
        "\n"
      ]
    },
    {
      "cell_type": "markdown",
      "metadata": {
        "id": "pyrDHfCjh9by"
      },
      "source": [
        "#### **Coding Exercise: Map tokens to indices**\n",
        "\n",
        "Map the tokens to indices on the first element in your training dataset: `sentences[0]`. To do so,  use the `convert_tokens_to_ids()` function of the `tokenizer` to encode our word tokens into numerical values. Call the command `tokenizer.convert_tokens_to_ids(TOKENIZED_SENTENCE)` passing in the tokenized version of `sentences[0]` that you created above for `TOKENIZED_SENTENCE`. Print the tokenized sentence relative to the mapped indices sentence."
      ]
    },
    {
      "cell_type": "code",
      "metadata": {
        "id": "__Fm8BD3EWHJ",
        "colab": {
          "base_uri": "https://localhost:8080/"
        },
        "outputId": "e61739e2-8773-482c-e649-905216477ac3"
      },
      "source": [
        "### YOUR CODE HERE\n",
        "original_sentence = sentences[0]\n",
        "tokenized_sentence = tokenizer.tokenize(original_sentence)\n",
        "print('Tokenized Sentence: ', tokenized_sentence)\n",
        "print('Mapped Indices Sentence: ', tokenizer.convert_tokens_to_ids(tokenized_sentence))\n",
        "### END CODE"
      ],
      "execution_count": 7,
      "outputs": [
        {
          "output_type": "stream",
          "name": "stdout",
          "text": [
            "Tokenized Sentence:  ['auto', '##tan', '##k', 'group', 'is', 'part', 'of', 'as', '##po', \"'\", 's', 'systems', 'division', '.']\n",
            "Mapped Indices Sentence:  [8285, 5794, 2243, 2177, 2003, 2112, 1997, 2004, 6873, 1005, 1055, 3001, 2407, 1012]\n"
          ]
        }
      ]
    },
    {
      "cell_type": "markdown",
      "metadata": {
        "id": "IMu6yub9CaSh"
      },
      "source": [
        "### Text Formatting ###\n",
        "\n",
        "When using BERT, we need to modify our input to match the BERT Format. To do so, we will apply these three steps on the input sentences:\n",
        "\n",
        "1. Add special tokens to the start (`[CLS]`) and end (`[SEP]`) of each sentence.\n",
        "2. Pad & truncate all sentences to a single constant length.\n",
        "3. Explicitly differentiate real tokens from padding tokens with the \"attention mask\".\n",
        "\n",
        "Take note of the visualization on **Sentence A** below that elucidates these steps. However, let us understand each of these steps in more detail before proceeding to apply them to our dataset."
      ]
    },
    {
      "cell_type": "markdown",
      "metadata": {
        "id": "m0gZApxsGu-e"
      },
      "source": [
        "#### **Special Tokens** ####"
      ]
    },
    {
      "cell_type": "markdown",
      "metadata": {
        "id": "2j6ihrw7G6bf"
      },
      "source": [
        "These are two tokens we add to the start and end respectively:\n",
        "\n",
        "\n",
        "\n",
        "*   `[CLS]` - stands for \"classification,\" and is used to identify new sentences.\n",
        "*   `[SEP]` - stands for \"separator,\" and identifies if a pair of sentences are consecutive in a corpus or not (used for next sentence prediction).\n",
        "\n"
      ]
    },
    {
      "cell_type": "markdown",
      "metadata": {
        "id": "_y2QFwsqot32"
      },
      "source": [
        "#### **Coding Exercise: Add special tokens**\n",
        "\n",
        "We want to add these special tokens to the start and end of each one of our preprocessed sentences. To do so, fill out the code below to loop through your `sentences` array and create a new sentence that adds `\"[CLS] \"` to the start of the sentence and that adds `\" [SEP]\"` to the end of the sentence. Add the newly modified sentence to the list variable named `sentences_with_special_tokens`.\n",
        "\n",
        "**Note: When you add the `\"[CLS] \"` string to the front of the sentence, ensure that you add it with the space character at the end as shown. Similarly, add the `\" [SEP]\"` string to the end of the sentence with a space character at the start as shown.**"
      ]
    },
    {
      "cell_type": "code",
      "metadata": {
        "id": "S0UZQC9KpOAn",
        "colab": {
          "base_uri": "https://localhost:8080/"
        },
        "outputId": "10968dc6-ef72-43a1-c3e1-35e59b321182"
      },
      "source": [
        "### YOUR CODE HERE\n",
        "sentences_with_special_tokens = []\n",
        "for sentence in sentences:\n",
        "  new_sentence = \"[CLS] \" + sentence + \" [SEP]\"\n",
        "  sentences_with_special_tokens.append(new_sentence)\n",
        "print(sentences_with_special_tokens[0])\n",
        "### END CODE"
      ],
      "execution_count": 8,
      "outputs": [
        {
          "output_type": "stream",
          "name": "stdout",
          "text": [
            "[CLS] Autotank Group is part of Aspo 's Systems Division . [SEP]\n"
          ]
        }
      ]
    },
    {
      "cell_type": "markdown",
      "metadata": {
        "id": "ou1rAcuirN68"
      },
      "source": [
        "#### **Coding Exercise: Tokenize your sentences**\n",
        "\n",
        "Now we will tokenize our new list of input sentences using our BERT `tokenizer`. Do so by looping through your new `sentences_with_special_tokens` list and apply `tokenizer.tokenize(SENTENCE)` to each sentence. Add each tokenized sentence to a list named `tokenized_texts`."
      ]
    },
    {
      "cell_type": "code",
      "metadata": {
        "id": "1Wn28oGGrpgF"
      },
      "source": [
        "tokenized_texts = []\n",
        "### YOUR CODE HERE\n",
        "for i in sentences_with_special_tokens:\n",
        "  new_mod_sentence = tokenizer.tokenize(i)\n",
        "  tokenized_texts.append(new_mod_sentence)\n",
        "### END CODE"
      ],
      "execution_count": 9,
      "outputs": []
    },
    {
      "cell_type": "markdown",
      "metadata": {
        "id": "X47WRWKnJaje"
      },
      "source": [
        "#### **Sentence Length** ####"
      ]
    },
    {
      "cell_type": "markdown",
      "metadata": {
        "id": "jt0BAL9BJjBT"
      },
      "source": [
        "Since our input has sentences of varying length, we need to pad them to be the same length. BERT has the follow constraints on sentence length:\n",
        "1. All sentences must be padded or truncated to a single, fixed length.\n",
        "2. The maximum sentence length is 512 tokens.\n",
        "\n",
        "In order to handle this, every input sequence is padded to pre-defined fixed length with a special `[PAD]` token, which pads the sequence with zeros.\n"
      ]
    },
    {
      "cell_type": "markdown",
      "metadata": {
        "id": "_e2jJaPescCj"
      },
      "source": [
        "#### **Coding Exercise: Encode tokenized sentences with indices**\n",
        "\n",
        "Before we properly pad the sentences, we will first map each token to its corresponding index for each tokenized sentence. To do so, we will loop through your `tokenized_texts` variable call the `tokenizer.convert_tokens_to_ids(TOKENIZED_SENTENCE)` while passing in your tokenized sentence to convert it to a list of corresponding indices. Add each converted list to the variable named `input_ids`."
      ]
    },
    {
      "cell_type": "code",
      "metadata": {
        "id": "Y_deSpjHtJ_8"
      },
      "source": [
        "input_ids = []\n",
        "### YOUR CODE HERE\n",
        "for j in tokenized_texts:\n",
        "  new_tokenized_texts= tokenizer.convert_tokens_to_ids(j)\n",
        "  input_ids.append(new_tokenized_texts)\n",
        "\n",
        "### END CODE"
      ],
      "execution_count": 10,
      "outputs": []
    },
    {
      "cell_type": "markdown",
      "metadata": {
        "id": "yFgUi0G-tma-"
      },
      "source": [
        "#### **Coding Exercise: Padding your input**\n",
        "\n",
        "Now we will pad our input to ensure that every sequence has the same length. To do so, we will utilize the `keras` function named `pad_sequences()`. Call the function below to properly pad your sequences. We want to pad every sequence to a length of `128`, so ensure that you pass in `128` for `maxlen` in the function call. Print the first element of your new `input_ids` to observe the new padded sequence."
      ]
    },
    {
      "cell_type": "code",
      "metadata": {
        "id": "T7hdDYWTtlOu"
      },
      "source": [
        "input_ids = pad_sequences(input_ids,\n",
        "                          maxlen=128, ### YOUR CODE HERE\n",
        "                          dtype=\"long\",\n",
        "                          truncating=\"post\",\n",
        "                          padding=\"post\")"
      ],
      "execution_count": 11,
      "outputs": []
    },
    {
      "cell_type": "markdown",
      "metadata": {
        "id": "90eOsNIMKyZB"
      },
      "source": [
        "####**Attention Masks**####"
      ]
    },
    {
      "cell_type": "markdown",
      "metadata": {
        "id": "B_-H9HfbK4sh"
      },
      "source": [
        "An Attention Mask is an array of 1s and 0s indicating which tokens are padding and which are not. The idea behind attention masks is that we do not want the extra padded sequence tokens to contribute to the input features of the machine learning model. So, we essentially zero them out to highlight their insignificance before passing them through the model.\n",
        "\n",
        "Each sequence has a corresponding attention mask. Consider the input sequence below and its corresponding attention mask. We want to create an attention mask for each sequence before passing our data through the BERT model.\n",
        "\n",
        "\n",
        "\n",
        "\n"
      ]
    },
    {
      "cell_type": "markdown",
      "metadata": {
        "id": "XuW6eulYvHjc"
      },
      "source": [
        "#### **Coding Exercise: Create attention masks**\n",
        "\n",
        "Create an attention mask for each sequence in your `input_ids` list. The attention mask for a particular tokenized sequence will have the same exact length and will have a `1.0` at every index that there is a token and a `0.0` at every index that there is a padding. Loop through your `input_ids` and for each sequence create a corresponding attention mask and add it to the `attention_masks` list.\n",
        "\n",
        "**Hint: To get the attention mask given a tokenized sequence, you may use the line of code `mask=[float(i>0) for i in SEQUENCE]` where `SEQUENCE` is an element of your `input_ids` list.**"
      ]
    },
    {
      "cell_type": "code",
      "metadata": {
        "id": "qoLBbuUgSJEU",
        "colab": {
          "base_uri": "https://localhost:8080/"
        },
        "outputId": "c8d1a86e-ebcf-4c5c-c525-b35595529398"
      },
      "source": [
        "attention_masks = []\n",
        "\n",
        "###YOUR CODE HERE###\n",
        "for k in input_ids:\n",
        "  mask=[float(i>0) for i in k]\n",
        "  attention_masks.append(mask)\n",
        "print(attention_masks[0])\n",
        "\n",
        "###END CODE ###"
      ],
      "execution_count": 12,
      "outputs": [
        {
          "output_type": "stream",
          "name": "stdout",
          "text": [
            "[1.0, 1.0, 1.0, 1.0, 1.0, 1.0, 1.0, 1.0, 1.0, 1.0, 1.0, 1.0, 1.0, 1.0, 1.0, 1.0, 0.0, 0.0, 0.0, 0.0, 0.0, 0.0, 0.0, 0.0, 0.0, 0.0, 0.0, 0.0, 0.0, 0.0, 0.0, 0.0, 0.0, 0.0, 0.0, 0.0, 0.0, 0.0, 0.0, 0.0, 0.0, 0.0, 0.0, 0.0, 0.0, 0.0, 0.0, 0.0, 0.0, 0.0, 0.0, 0.0, 0.0, 0.0, 0.0, 0.0, 0.0, 0.0, 0.0, 0.0, 0.0, 0.0, 0.0, 0.0, 0.0, 0.0, 0.0, 0.0, 0.0, 0.0, 0.0, 0.0, 0.0, 0.0, 0.0, 0.0, 0.0, 0.0, 0.0, 0.0, 0.0, 0.0, 0.0, 0.0, 0.0, 0.0, 0.0, 0.0, 0.0, 0.0, 0.0, 0.0, 0.0, 0.0, 0.0, 0.0, 0.0, 0.0, 0.0, 0.0, 0.0, 0.0, 0.0, 0.0, 0.0, 0.0, 0.0, 0.0, 0.0, 0.0, 0.0, 0.0, 0.0, 0.0, 0.0, 0.0, 0.0, 0.0, 0.0, 0.0, 0.0, 0.0, 0.0, 0.0, 0.0, 0.0, 0.0, 0.0]\n"
          ]
        }
      ]
    },
    {
      "cell_type": "markdown",
      "metadata": {
        "id": "jh5_xaQ8YRdb"
      },
      "source": [
        "## **Setting up your Data for BERT**\n",
        "\n",
        "Finally, we need to split our data and convert it to objects that will work most efficiently with the BERT model training procedure. Specifically, we will split our training data into training and validation sets. Additionally, we will convert our data objects into `tensor` s such that we can easily feed the input into the model."
      ]
    },
    {
      "cell_type": "markdown",
      "metadata": {
        "id": "BQR_H7xAyFlX"
      },
      "source": [
        "#### **Coding Exercise: Train/Test Split**\n",
        "\n",
        "To run machine learning models, we first need to split our dataset into training and validation sections. We can do so by using the `train_test_split()` function. One call to this function returns four separate items:\n",
        "  1. X_train\n",
        "  2. X_val\n",
        "  3. y_train\n",
        "  4. y_val\n",
        "\n",
        "We will save these returned elements in variables with respective names. Call the `train_test_split()` function, passing in `input_ids`, `labels`, `test_size=0.15`, and `random_state=RND_SEED`."
      ]
    },
    {
      "cell_type": "code",
      "metadata": {
        "id": "x45mr_TJyP5J"
      },
      "source": [
        "X_train, X_val, y_train, y_val = train_test_split(input_ids,labels,test_size=0.15,random_state=RND_SEED)"
      ],
      "execution_count": 13,
      "outputs": []
    },
    {
      "cell_type": "markdown",
      "metadata": {
        "id": "cZOG4dG1zA3X"
      },
      "source": [
        "We also want to split our attention masks in the same way. Similarly, call the `train_test_split()` function, passing in `attention_masks`, `input_ids`, `test_size=0.15`, and `random_state=RND_SEED`. However, we only need to save the first two returned items in variables named `train_masks` and `validation_masks`."
      ]
    },
    {
      "cell_type": "code",
      "metadata": {
        "id": "IzU-N_UxzC2n"
      },
      "source": [
        "train_masks, validation_masks, _, _ = train_test_split(attention_masks,input_ids,test_size=0.15,random_state=RND_SEED) ### YOUR CODE HERE"
      ],
      "execution_count": 14,
      "outputs": []
    },
    {
      "cell_type": "markdown",
      "metadata": {
        "id": "XJUPm4lB5Hom"
      },
      "source": [
        "In addition to converting our data to `tensor`, `tensorflow` array objects, we will also create a `DataLoader` for our input. A `DataLoader` is simply an object that simplifies and streamlines feeding in data to our model."
      ]
    },
    {
      "cell_type": "code",
      "metadata": {
        "id": "lm8uhq7rU3nY"
      },
      "source": [
        "#@title Run this cell to convert data to tensors and create DataLoaders\n",
        "train_inputs = torch.tensor(np.array(X_train));\n",
        "validation_inputs = torch.tensor(np.array(X_val));\n",
        "train_masks = torch.tensor(np.array(train_masks));\n",
        "validation_masks = torch.tensor(np.array(validation_masks));\n",
        "train_labels = torch.tensor(np.array(y_train));\n",
        "validation_labels = torch.tensor(np.array(y_val));\n",
        "\n",
        "batch_size = 32\n",
        "train_data = TensorDataset(train_inputs, train_masks, train_labels);\n",
        "train_sampler = RandomSampler(train_data); # Samples data randonly for training\n",
        "train_dataloader = DataLoader(train_data, sampler=train_sampler, batch_size=batch_size);\n",
        "validation_data = TensorDataset(validation_inputs, validation_masks, validation_labels);\n",
        "validation_sampler = SequentialSampler(validation_data); # Samples data sequentially\n",
        "validation_dataloader = DataLoader(validation_data, sampler=validation_sampler, batch_size=batch_size);"
      ],
      "execution_count": 15,
      "outputs": []
    },
    {
      "cell_type": "markdown",
      "metadata": {
        "id": "73xKQg_qWDq1"
      },
      "source": [
        "# **Milestone 3: Running and finetuning our BERT model with the PyTorch huggingface transformer library.**\n",
        "\n",
        "\n",
        "\n"
      ]
    },
    {
      "cell_type": "markdown",
      "metadata": {
        "id": "GnAnFaYTY4y4"
      },
      "source": [
        "To use BERT in our sentiment analysis, we first want to modify BERT to output either a positive, neutral, or negative classification. Next,  we want to train the model on our dataset so that the entire model, end-to-end, is well-suited to our task.\n",
        "\n",
        "The huggingface PyTorch implementation includes a set of interfaces designed for a variety of NLP tasks. These interfaces are all built on top of a pre-trained BERT model, and each has different top layers and output types designed to accomodate their specific NLP task. (An analogy: imagine BERT is a garden hose; then the huggingface PyTorch interfaces are like different nozzles for the garden hose, so we can use it for \"jet,\" \"mist,\" etc.)\n",
        "\n",
        "For our sentiment classification task we will use:\n",
        "\n",
        "* **BertForSequenceClassification** - This is the normal BERT model with an added single linear layer on top for classification that we will use as a sentence classifier. As we feed input data, the entire pre-trained BERT model and the additional untrained classification layer is trained on our specific task.\n",
        "\n",
        "\n",
        "The documentation for this can be found [here](https://huggingface.co/docs/transformers/model_doc/bert#transformers.BertForSequenceClassification)."
      ]
    },
    {
      "cell_type": "markdown",
      "metadata": {
        "id": "frAYD51x54gW"
      },
      "source": [
        "We will create a `BertForSequenceClassification` model and save it in a variable named `model`."
      ]
    },
    {
      "cell_type": "code",
      "metadata": {
        "id": "j-iu1Nm0yiTS",
        "colab": {
          "base_uri": "https://localhost:8080/",
          "height": 102,
          "referenced_widgets": [
            "3c623a496f284332b9f29825d6d33abe",
            "1607ae6e5af64f6988bfa012108da008",
            "e36faed1c9a94b0a97ed6ca93018c34e",
            "bfb0c08e07bc415ea3190a0b92c03ffa",
            "d2c0f9bc188842b18867a8768413ebd1",
            "bc9bccb3b12b485ebc3093029998a122",
            "13565534d679462f85739cd1247eecb8",
            "bdd6a293e9e9410f981a76248ad34eda",
            "ba4d3bed76d34103ab081133df7c0908",
            "2c2250b00a774af29ef85c8b6b2c6ccc",
            "20a13eb85eaa4ab399c8fb46e6e29d9f"
          ]
        },
        "outputId": "c4edae39-5408-4449-e02d-d436373d3c2b"
      },
      "source": [
        "#@title Run this cell to initialize your BertForSequenceClassification model\n",
        "#Load BertForSequenceClassification, the pretrained BERT model with a single linear classification layer on top.\n",
        "model = BertForSequenceClassification.from_pretrained(\n",
        "    \"bert-base-uncased\", # Use the 12-layer BERT small model, with an uncased vocab.\n",
        "    num_labels = 3,\n",
        "    output_attentions = False, # Whether the model returns attentions weights.\n",
        "    output_hidden_states = False, # Whether the model returns all hidden-states.\n",
        ");\n",
        "\n",
        "# Given that this a huge neural network, we need to explicity specify\n",
        "# in pytorch to run this model on the GPU.\n",
        "model.cuda();\n",
        "\n",
        "device = torch.device(\"cuda\" if torch.cuda.is_available() else \"cpu\")\n",
        "n_gpu = torch.cuda.device_count()\n",
        "torch.cuda.get_device_name(0)"
      ],
      "execution_count": 16,
      "outputs": [
        {
          "output_type": "display_data",
          "data": {
            "text/plain": [
              "model.safetensors:   0%|          | 0.00/440M [00:00<?, ?B/s]"
            ],
            "application/vnd.jupyter.widget-view+json": {
              "version_major": 2,
              "version_minor": 0,
              "model_id": "3c623a496f284332b9f29825d6d33abe"
            }
          },
          "metadata": {}
        },
        {
          "output_type": "stream",
          "name": "stderr",
          "text": [
            "Some weights of BertForSequenceClassification were not initialized from the model checkpoint at bert-base-uncased and are newly initialized: ['classifier.bias', 'classifier.weight']\n",
            "You should probably TRAIN this model on a down-stream task to be able to use it for predictions and inference.\n"
          ]
        },
        {
          "output_type": "execute_result",
          "data": {
            "text/plain": [
              "'Tesla T4'"
            ],
            "application/vnd.google.colaboratory.intrinsic+json": {
              "type": "string"
            }
          },
          "metadata": {},
          "execution_count": 16
        }
      ]
    },
    {
      "cell_type": "markdown",
      "metadata": {
        "id": "chNBo_lQ0a2D"
      },
      "source": [
        "#### **Coding Exercise: Initialize hyperparameters**\n",
        "\n",
        "There are two hyperparamters we will consider: **Learning rate** and **Epochs**. Improperly setting these hyperparamters could lead to overfitting or underfitting. We will set these values as follows:\n",
        "\n",
        "1. **Learning rate**: 2e-5\n",
        "2. **Epochs**: 4\n",
        "\n",
        "The learning rate parameter comes as part of an optimizer object that we use in our model. Only change the value of the `lr` variable inside the `AdamW` object. Fill in these hyperparameter values below and run the code cell before proceeding. Revisit this cell after you complete the notebook to try and improve your model through modifying these parameter values!"
      ]
    },
    {
      "cell_type": "code",
      "metadata": {
        "id": "Toc3r89-76M8"
      },
      "source": [
        "optimizer = AdamW(model.parameters(),\n",
        "                  lr = 2e-5, ### YOUR CODE HERE\n",
        "                  eps = 1e-8\n",
        "                )\n",
        "epochs = 5"
      ],
      "execution_count": 17,
      "outputs": []
    },
    {
      "cell_type": "markdown",
      "metadata": {
        "id": "IP1Ltw979KEa"
      },
      "source": [
        "#### **Discussion Exercise: Training Model Steps**\n",
        "\n",
        "Below are a list of steps taken to train the model listed in no particular order. Look at the steps and discuss the significance of each. Afterwards, order the steps based on how you think the model training procedure is carried out and list them in order below.\n",
        "\n",
        "Training Steps:\n",
        "*   Backward pass (backpropagation)\n",
        "*   Clear out the gradients calculated in the previous pass\n",
        "*   Update parameters\n",
        "*   Unpack our data inputs and labels from the DataLoader objects\n",
        "*   Forward pass (feed data through network)"
      ]
    },
    {
      "cell_type": "code",
      "metadata": {
        "id": "yuf46Ae8-Lvf",
        "colab": {
          "base_uri": "https://localhost:8080/"
        },
        "outputId": "8df806a9-0050-4d63-8092-67b6ef6101d8"
      },
      "source": [
        "#@title Exercise. Ordered Model Training Steps\n",
        "\n",
        "_1_ = 'Unpack our data inputs and labels from the DataLoader objects' #@param {type:\"string\"}\n",
        "_2_ = 'Clear out the gradients calculated in the previous pass' #@param {type:\"string\"}\n",
        "_3_ = 'Forward pass' #@param {type:\"string\"}\n",
        "_4_ = 'Backward pass' #@param {type:\"string\"}\n",
        "_5_ = 'Update Parameters' #@param {type:\"string\"}\n",
        "\n",
        "print('{}\\n{}\\n{}\\n{}\\n{}'.format(\n",
        "    '1. Unpack our data inputs and labels from the DataLoader objects',\n",
        "    '2. Clear out the gradients calculated in the previous pass',\n",
        "    '3. Forward pass',\n",
        "    '4. Backward pass',\n",
        "    '5. Update hyperparamters'))"
      ],
      "execution_count": 18,
      "outputs": [
        {
          "output_type": "stream",
          "name": "stdout",
          "text": [
            "1. Unpack our data inputs and labels from the DataLoader objects\n",
            "2. Clear out the gradients calculated in the previous pass\n",
            "3. Forward pass\n",
            "4. Backward pass\n",
            "5. Update hyperparamters\n"
          ]
        }
      ]
    },
    {
      "cell_type": "code",
      "metadata": {
        "id": "RpNhCuKZ33X8",
        "colab": {
          "base_uri": "https://localhost:8080/"
        },
        "outputId": "9eabb130-399a-4bb0-8dea-8f4998c827d2"
      },
      "source": [
        "#@title Run this cell to train your model!\n",
        "\n",
        "# Total number of training steps is [number of batches] x [number of epochs].\n",
        "# (Note that this is not the same as the number of training samples).\n",
        "total_steps = len(train_dataloader) * epochs\n",
        "\n",
        "# Create the learning rate scheduler.\n",
        "scheduler = get_linear_schedule_with_warmup(optimizer,\n",
        "                                            num_warmup_steps = 0, # Default value in run_glue.py\n",
        "                                            num_training_steps = total_steps)\n",
        "\n",
        "# We'll store training and validation loss,\n",
        "# validation accuracy, and timings.\n",
        "training_loss = []\n",
        "validation_loss = []\n",
        "training_stats = []\n",
        "for epoch_i in range(0, epochs):\n",
        "    # Training\n",
        "    print('Epoch {:} / {:} ========'.format(epoch_i + 1, epochs))\n",
        "    print('Training the model')\n",
        "    # Reset the total loss for  epoch.\n",
        "    total_train_loss = 0\n",
        "    # Put the model into training mode.\n",
        "    model.train()\n",
        "    # For each batch of training data\n",
        "    for step, batch in enumerate(train_dataloader):\n",
        "        # Progress update every 40 batches.\n",
        "        if step % 20 == 0 and not step == 0:\n",
        "            # Report progress.\n",
        "            print('  Batch {:>5,}  of  {:>5,}. '.format(step, len(train_dataloader)))\n",
        "\n",
        "        # STEP 1 & 2: Unpack this training batch from our dataloader.\n",
        "        # As we unpack the batch, we'll also copy each tensor to the GPU using the\n",
        "        # `to` method.\n",
        "        # `batch` contains three pytorch tensors:\n",
        "        #   [0]: input ids\n",
        "        #   [1]: attention masks\n",
        "        #   [2]: labels\n",
        "        b_input_ids = batch[0].to(device)\n",
        "        b_input_mask = batch[1].to(device)\n",
        "        b_labels = batch[2].to(device)\n",
        "\n",
        "        # STEP 3\n",
        "        # Always clear any previously calculated gradients before performing a\n",
        "        # backward pass.\n",
        "        model.zero_grad()\n",
        "\n",
        "        # STEP 4\n",
        "        # Perform a forward pass (evaluate the model on this training batch).\n",
        "        # It returns the loss (because we provided labels) and\n",
        "        # the \"logits\"--the model outputs prior to activation.\n",
        "        outputs = model(b_input_ids,\n",
        "                             token_type_ids=None,\n",
        "                             attention_mask=b_input_mask,\n",
        "                             labels=b_labels)\n",
        "        loss = outputs[0]\n",
        "        logits = outputs[1]\n",
        "        # Accumulate the training loss over all of the batches so that we can\n",
        "        # calculate the average loss at the end. `loss` is a Tensor containing a\n",
        "        # single value; the `.item()` function just returns the Python value\n",
        "        # from the tensor.\n",
        "        total_train_loss += loss.item()\n",
        "\n",
        "        # STEP 5\n",
        "        # Perform a backward pass to calculate the gradients.\n",
        "        loss.backward()\n",
        "        # Clip the norm of the gradients to 1.0.\n",
        "        # This is to help prevent the \"exploding gradients\" problem.\n",
        "        torch.nn.utils.clip_grad_norm_(model.parameters(), 1.0)\n",
        "\n",
        "        # STEP 6\n",
        "        # Update parameters and take a step using the computed gradient\n",
        "        optimizer.step()\n",
        "        # Update the learning rate.\n",
        "        scheduler.step()\n",
        "\n",
        "    # Calculate the average loss over all of the batches.\n",
        "    avg_train_loss = total_train_loss / len(train_dataloader)\n",
        "\n",
        "    print(\"  Average training loss: {0:.2f}\".format(avg_train_loss))\n",
        "    # Validation\n",
        "    # After the completion of each training epoch, measure our performance on\n",
        "    # our validation set.\n",
        "\n",
        "    print(\"Evaluating on Validation Set\")\n",
        "    # Put the model in evaluation mode\n",
        "    model.eval()\n",
        "    # Tracking variables\n",
        "    total_eval_accuracy = 0\n",
        "    total_eval_loss = 0\n",
        "    nb_eval_steps = 0\n",
        "    # Evaluate data for one epoch\n",
        "    for batch in validation_dataloader:\n",
        "        #Step 1 and Step 2\n",
        "        # Unpack this validation batch from our dataloader.\n",
        "\n",
        "        b_input_ids = batch[0].to(device)\n",
        "        b_input_mask = batch[1].to(device)\n",
        "        b_labels = batch[2].to(device)\n",
        "\n",
        "        # Tell pytorch not to bother with constructing the compute graph during\n",
        "        # the forward pass, since this is only needed for backprop (training).\n",
        "        with torch.no_grad():\n",
        "\n",
        "            # Forward pass, calculate logit predictions.\n",
        "            # The \"logits\" are the output\n",
        "            # values prior to applying an activation function like the softmax.\n",
        "            outputs = model(b_input_ids,\n",
        "                                   token_type_ids=None,\n",
        "                                   attention_mask=b_input_mask,\n",
        "                                   labels=b_labels)\n",
        "            loss = outputs[0]\n",
        "            logits = outputs[1]\n",
        "\n",
        "        # Accumulate the validation loss.\n",
        "        total_eval_loss += loss.item()\n",
        "\n",
        "        # Move logits and labels to CPU\n",
        "        logits = logits.detach().cpu().numpy()\n",
        "        label_ids = b_labels.to('cpu').numpy()\n",
        "\n",
        "        # Calculate the accuracy for this batch of test sentences, and\n",
        "        # accumulate it over all batches.\n",
        "        total_eval_accuracy += flat_accuracy(logits, label_ids)\n",
        "\n",
        "\n",
        "    # Report the final accuracy for this validation run.\n",
        "    avg_val_accuracy = total_eval_accuracy / len(validation_dataloader)\n",
        "    print(\"Validation Accuracy: {0:.2f}\".format(avg_val_accuracy))\n",
        "\n",
        "    # Calculate the average loss over all of the batches.\n",
        "    avg_val_loss = total_eval_loss / len(validation_dataloader)\n",
        "\n",
        "\n",
        "\n",
        "    print(\"Validation Loss: {0:.2f}\".format(avg_val_loss))\n",
        "\n",
        "\n",
        "    training_loss.append(avg_train_loss)\n",
        "    validation_loss.append(avg_val_loss)\n",
        "    # Record all statistics from this epoch.\n",
        "\n",
        "    training_stats.append(\n",
        "        {\n",
        "            'epoch': epoch_i + 1,\n",
        "            'Training Loss': avg_train_loss,\n",
        "            'Valid. Loss': avg_val_loss,\n",
        "            'Valid. Accur.': avg_val_accuracy\n",
        "\n",
        "        }\n",
        "    )\n",
        "\n",
        "print(\"Training complete!\")"
      ],
      "execution_count": 19,
      "outputs": [
        {
          "output_type": "stream",
          "name": "stdout",
          "text": [
            "Epoch 1 / 5 ========\n",
            "Training the model\n",
            "  Batch    20  of     55. \n",
            "  Batch    40  of     55. \n",
            "  Average training loss: 0.66\n",
            "Evaluating on Validation Set\n",
            "Validation Accuracy: 0.80\n",
            "Validation Loss: 0.43\n",
            "Epoch 2 / 5 ========\n",
            "Training the model\n",
            "  Batch    20  of     55. \n",
            "  Batch    40  of     55. \n",
            "  Average training loss: 0.26\n",
            "Evaluating on Validation Set\n",
            "Validation Accuracy: 0.96\n",
            "Validation Loss: 0.17\n",
            "Epoch 3 / 5 ========\n",
            "Training the model\n",
            "  Batch    20  of     55. \n",
            "  Batch    40  of     55. \n",
            "  Average training loss: 0.07\n",
            "Evaluating on Validation Set\n",
            "Validation Accuracy: 0.96\n",
            "Validation Loss: 0.14\n",
            "Epoch 4 / 5 ========\n",
            "Training the model\n",
            "  Batch    20  of     55. \n",
            "  Batch    40  of     55. \n",
            "  Average training loss: 0.04\n",
            "Evaluating on Validation Set\n",
            "Validation Accuracy: 0.97\n",
            "Validation Loss: 0.13\n",
            "Epoch 5 / 5 ========\n",
            "Training the model\n",
            "  Batch    20  of     55. \n",
            "  Batch    40  of     55. \n",
            "  Average training loss: 0.03\n",
            "Evaluating on Validation Set\n",
            "Validation Accuracy: 0.97\n",
            "Validation Loss: 0.13\n",
            "Training complete!\n"
          ]
        }
      ]
    },
    {
      "cell_type": "markdown",
      "metadata": {
        "id": "YJeeXKQe_Qkm"
      },
      "source": [
        "#### **Coding Exercise: Plot your losses!**\n",
        "\n",
        "When we trained the model above, the training and validation losses were saved in variables named `training_loss` and `validation_loss` respectively. Let us plot these curves and analyze what we see!\n",
        "\n"
      ]
    },
    {
      "cell_type": "code",
      "metadata": {
        "id": "9L7K8cTM_ili",
        "colab": {
          "base_uri": "https://localhost:8080/",
          "height": 564
        },
        "outputId": "0d5688b7-b054-4130-f5bd-75973f3e9dcc"
      },
      "source": [
        "fig = plt.figure(figsize=(12,6))\n",
        "plt.title('Loss over Time')\n",
        "plt.xlabel('Epochs')\n",
        "plt.ylabel('Loss')\n",
        "\n",
        "### YOUR CODE HERE\n",
        "plt.plot(training_loss,label='Training Loss')\n",
        "plt.plot(validation_loss,label='Validation Loss')\n",
        "### END CODE\n",
        "\n",
        "plt.legend()\n",
        "plt.show()"
      ],
      "execution_count": 20,
      "outputs": [
        {
          "output_type": "display_data",
          "data": {
            "text/plain": [
              "<Figure size 1200x600 with 1 Axes>"
            ],
            "image/png": "[encoded data removed]"
          },
          "metadata": {}
        }
      ]
    },
    {
      "cell_type": "markdown",
      "metadata": {
        "id": "BQD-f1dOAiTT"
      },
      "source": [
        "#### **Coding Exercise: Evaluate your test set accuracy.**\n",
        "\n",
        "To be able to assess the accuracy on the test set, we need to carry out the data preprocessing, tokenization, padding, and formatting on the test set saved in `df_test` from earlier.\n",
        "\n",
        "First, to make this process easier, save the sentences and labels from `df_test` in variables named `test_sentences` and `test_labels`.\n",
        "\n",
        "**Note: To access a column from a dataframe based on the column name, you can use the code structure: `column = df_test[\"column_name\"].values`. Replace `column_name` with your desired column to access it.**\n",
        "\n"
      ]
    },
    {
      "cell_type": "code",
      "metadata": {
        "id": "01aUl-mxBLgX"
      },
      "source": [
        "### YOUR CODE HERE\n",
        "test_sentences = df_test.Sentence.values\n",
        "test_labels = df_test.Label.values\n",
        "\n",
        "### END CODE"
      ],
      "execution_count": 21,
      "outputs": []
    },
    {
      "cell_type": "markdown",
      "metadata": {
        "id": "hACjYuF2AJo9"
      },
      "source": [
        "Now we will format our test input data similarly to how we formatted our training input data. Run the cell below to create the variables `test_input_ids` and `test_attention_masks`."
      ]
    },
    {
      "cell_type": "code",
      "metadata": {
        "id": "5ncZome9-tPE"
      },
      "source": [
        "#@title Run this cell to process and prepare our test data!\n",
        "test_input_ids, test_attention_masks = [], []\n",
        "\n",
        "# Add Special Tokens\n",
        "test_sentences = [\"[CLS] \" + sentence + \" [SEP]\" for sentence in test_sentences]\n",
        "\n",
        "# Tokenize sentences\n",
        "tokenized_test_sentences = [tokenizer.tokenize(sent) for sent in test_sentences]\n",
        "\n",
        "# Encode Tokens to Word IDs\n",
        "test_input_ids = [tokenizer.convert_tokens_to_ids(txt) for txt in tokenized_test_sentences]\n",
        "\n",
        "# Pad the inputs\n",
        "test_input_ids = pad_sequences(test_input_ids,\n",
        "                               maxlen=128,\n",
        "                               dtype=\"long\",\n",
        "                               truncating=\"post\",\n",
        "                               padding=\"post\")\n",
        "\n",
        "# Create Attention Masks\n",
        "for sequence in test_input_ids:\n",
        "  mask = [float(i>0) for i in sequence]\n",
        "  test_attention_masks.append(mask)"
      ],
      "execution_count": 22,
      "outputs": []
    },
    {
      "cell_type": "markdown",
      "metadata": {
        "id": "Ca5qUrf1Ci8m"
      },
      "source": [
        "Just as before, we will convert our data to `tensor` and create a `DataLoader` for our inputs."
      ]
    },
    {
      "cell_type": "code",
      "metadata": {
        "id": "4CiYwcQIANi8"
      },
      "source": [
        "#@title Run this cell to convert data to tensors and create DataLoaders\n",
        "batch_size = 32\n",
        "test_input_ids = torch.tensor(test_input_ids)\n",
        "test_attention_masks = torch.tensor(test_attention_masks)\n",
        "test_labels = torch.tensor(test_labels)\n",
        "prediction_data = TensorDataset(test_input_ids, test_attention_masks, test_labels)\n",
        "prediction_sampler = SequentialSampler(prediction_data)\n",
        "prediction_dataloader = DataLoader(prediction_data, sampler=prediction_sampler, batch_size=batch_size)"
      ],
      "execution_count": 23,
      "outputs": []
    },
    {
      "cell_type": "markdown",
      "metadata": {
        "id": "ArwOSMuwAXzs"
      },
      "source": [
        "Finally, run the cell below to evaluate your accuracy on your test dataset!"
      ]
    },
    {
      "cell_type": "code",
      "metadata": {
        "id": "t4rX-vG7AaXl",
        "colab": {
          "base_uri": "https://localhost:8080/",
          "height": 616
        },
        "outputId": "a0265935-832f-46ee-eeac-a671258503b9"
      },
      "source": [
        "#@title Evaluate Test Set Accuracy!\n",
        "# Prediction on test set\n",
        "\n",
        "print('Predicting labels for {:,} test sentences...'.format(len(test_input_ids)))\n",
        "\n",
        "# Put model in evaluation mode\n",
        "model.eval()\n",
        "\n",
        "# Tracking variables\n",
        "predictions , true_labels = [], []\n",
        "\n",
        "# Predict\n",
        "for batch in prediction_dataloader:\n",
        "  # Add batch to GPU\n",
        "  batch = tuple(t.to(device) for t in batch)\n",
        "\n",
        "  # Unpack the inputs from our dataloader\n",
        "  b_input_ids, b_input_mask, b_labels = batch\n",
        "\n",
        "  with torch.no_grad():\n",
        "      # Forward pass, calculate logit predictions\n",
        "      outputs = model(b_input_ids, token_type_ids=None,\n",
        "                      attention_mask=b_input_mask)\n",
        "\n",
        "  logits = outputs[0]\n",
        "\n",
        "  # Move logits and labels to CPU\n",
        "  logits = logits.detach().cpu().numpy()\n",
        "  label_ids = b_labels.to('cpu').numpy()\n",
        "\n",
        "  # Store predictions and true labels\n",
        "  predictions.append(logits)\n",
        "  true_labels.append(label_ids)\n",
        "\n",
        "# Final tracking variables\n",
        "y_logits, y_true, y_preds = [], [], []\n",
        "\n",
        "# Gather logit predictions\n",
        "for chunk in predictions:\n",
        "  for logits in chunk:\n",
        "    y_logits.append(logits)\n",
        "\n",
        "# Gather true labels\n",
        "for chunk in true_labels:\n",
        "  for label in chunk:\n",
        "    y_true.append(label)\n",
        "\n",
        "# Gather real predictions\n",
        "for logits in y_logits:\n",
        "  y_preds.append(np.argmax(logits))\n",
        "\n",
        "print ('Test Accuracy: {:.2%}'.format(metrics.accuracy_score(y_preds,y_true)))\n",
        "plot_confusion_matrix(y_true,y_preds)"
      ],
      "execution_count": 24,
      "outputs": [
        {
          "output_type": "stream",
          "name": "stdout",
          "text": [
            "Predicting labels for 2,037 test sentences...\n",
            "Test Accuracy: 99.31%\n",
            "Plotting the Confusion Matrix\n"
          ]
        },
        {
          "output_type": "display_data",
          "data": {
            "text/plain": [
              "<Figure size 700x600 with 2 Axes>"
            ],
            "image/png": "[encoded data removed]"
          },
          "metadata": {}
        }
      ]
    },
    {
      "cell_type": "markdown",
      "metadata": {
        "id": "0-j-nUj_EDkK"
      },
      "source": [
        "#### **Discussion Exercise: Significance of your test accuracy**\n",
        "\n",
        "What do you think about the accuracy of your model? Do you think it would perform just as well on a larger dataset?"
      ]
    },
    {
      "cell_type": "markdown",
      "metadata": {
        "id": "uvNbJi3hJJ-p"
      },
      "source": [
        "# Congratulations on completing your BERT Model!"
      ]
    }
  ]
}